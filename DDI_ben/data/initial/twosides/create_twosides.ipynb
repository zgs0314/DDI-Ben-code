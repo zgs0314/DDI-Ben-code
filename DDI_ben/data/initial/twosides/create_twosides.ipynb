{
 "cells": [
  {
   "cell_type": "code",
   "execution_count": 1,
   "id": "ab749844",
   "metadata": {},
   "outputs": [],
   "source": [
    "from tdc.multi_pred import DDI\n",
    "from collections import defaultdict\n",
    "import pandas as pd\n",
    "from tqdm import tqdm"
   ]
  },
  {
   "cell_type": "code",
   "execution_count": 2,
   "id": "c68b0cfb",
   "metadata": {},
   "outputs": [
    {
     "name": "stdout",
     "output_type": "stream",
     "text": [
      "{'1024': 'hypermagnesemia', '767': 'retinopathy of prematurity', '79': 'atelectasis', '25': 'alkalosis', '85': 'Back Ache', '735': 'lung edema', '959': 'agitated', '255': 'abnormal movements', '9': 'Acidosis', '740': 'peliosis', '815': 'rupture of spleen', '56': 'Apnea', '247': 'Drug hypersensitivity', '328': 'flatulence', '1149': 'pain in throat', '442': 'allergies', '853': 'thrombocytopenia', '1226': 'bradycardia', '1132': 'lung infiltration', '391': 'Bleeding', '1072': 'hypoglycaemia neonatal', '1136': 'Gastrointestinal Obstruction', '433': 'hyperglycaemia', '679': 'peritonitis', '457': 'hypoglycaemia', '0': 'abdominal distension', '369': 'asystole', '143': 'cerebral infarct', '1143': 'hypoxia', '258': 'Difficulty breathing', '466': 'decreased body temperature', '658': 'adynamic ileus', '1155': 'sepsis', '1025': 'Hypomagnesaemia', '757': 'neonatal respiratory distress syndrome', '758': 'Acute Respiratory Distress Syndrome', '518': 'lipoma', '666': 'pelvic infection', '57': 'appendectomy', '327': 'flank pain', '699': 'pneumothorax', '58': 'appendicitis', '827': 'Strabismus', '455': 'Blood calcium decreased', '1286': 'respiratory failure', '447': 'pulmonary hypertension', '429': 'Hypercapnia', '479': 'intestinal perforation', '512': 'leucocytosis', '528': 'Disorder Lung', '420': 'hot flash', '464': 'arterial pressure NOS decreased', '1100': 'metabolic acidosis', '207': 'Bladder inflammation', '72': 'ascites', '249': 'patent ductus arteriosis', '841': 'sinus tachycardia', '830': 'stridor', '1236': 'arterial pressure NOS increased', '1221': 'Hypoventilation', '267': 'edema', '523': 'disease of liver', '1033': 'Aspartate Aminotransferase Increase', '1194': 'Cold extremities', '330': 'facial flushing', '36': 'anaphylactic reaction', '304': 'eruption', '13': 'acute pancreatitis', '692': 'neumonia', '14': 'adenocarcinoma', '184': 'confusion', '1082': 'malnourished', '392': 'haemorrhoids', '1257': 'still birth', '37': 'anaemia', '248': 'drug toxicity NOS', '1273': 'increased white blood cell count', '949': 'encephalopathy', '47': 'Anorexia', '878': 'tremor', '364': 'Hallucination', '529': 'chronic obstructive airway disease', '245': 'drowsiness', '367': 'Head ache', '84': 'back injury', '887': 'erythema', '240': 'Diplopia', '816': 'enlarged spleen', '596': 'narcolepsy', '299': 'esophageal spasm', '1180': 'erosive gastritis', '1207': 'gastroenteritis viral', '539': 'Lymphocytes decreased', '1260': 'Breast cancer', '725': 'itch', '39': 'haemolytic anaemia', '888': 'upper gastrointestinal bleeding', '485': 'icterus', '343': 'gastroenteritis', '656': 'optic disc edema', '1277': 'sleep disorder', '796': 'septic shock', '941': 'bladder retention', '55': 'Aphonia', '648': 'Pain', '931': 'idiopathic thrombocytopenic purpura', '697': 'pneumonia staphylococcal', '28': 'alopecia', '185': 'conjunctivitis', '694': 'lobar pneumonia', '352': 'glomerulonephritis', '250': 'duodenal ulcer', '1008': 'deep vein thromboses', '514': 'leucopenia', '1290': 'rhinorrhea', '121': 'bursitis', '1023': 'bleeding Vaginal', '305': 'Excoriation', '759': 'Ekbom Syndrome', '604': 'nephrocalcinosis', '1216': 'blurred vision', '741': 'thrombotic microangiopathy', '243': 'dizziness', '689': 'pleurisy', '834': 'sunburn', '418': 'Hoarseness', '1176': 'Bleeding hemorrhoids', '315': 'Fatigue', '693': 'aspiration pneumonia', '1181': 'perirectal abscess', '238': 'diarrhea', '76': 'asthma', '803': 'skin lesion', '866': 'tinnitus', '810': 'muscle spasm', '324': 'fib', '124': 'Candida Infection', '1255': 'Abnormal Gait', '354': 'glossodynia', '325': 'anal fissure', '916': 'Infection Viral', '139': 'cellulitis', '223': 'allergic dermatitis', '189': 'constipated', '100': 'Clotting', '661': 'muscle paresis', '212': 'deafness', '924': 'vocal cord paralysis', '1034': 'dry skin', '1058': 'ear discharge', '1032': 'eye pain', '510': 'Leukaemia', '591': 'myopia', '496': 'Chronic Kidney Disease', '495': 'acute kidney failure', '872': 'retrocollis', '175': 'cognitive disorder', '158': 'Cholangitis', '467': 'hypothyroid', '220': 'dermatitides', '1027': 'Abnormal LFTs', '222': 'dermatitis medicamentosa', '217': 'acute brain syndrome', '368': 'Deafness neurosensory', '581': 'fungal disease', '1044': 'nasal sinus congestion', '1267': 'Near Syncope', '296': 'erythema multiforme', '384': 'haematoma', '99': 'bleb', '597': 'nasal congestion', '31': 'amenorrhea', '293': 'epistaxis', '395': 'hepatitis', '172': 'coated tongue', '615': 'Neutropenia', '932': 'wheeze', '1182': 'haemorrhage rectum', '1': 'abdominal pain', '153': 'chest pain', '881': 'Mycobacterium tuberculosis infection', '163': 'cholelithiasis', '744': 'pyoderma', '505': 'laryngeal neoplasia', '383': 'Blood disorder', '732': 'psychoses', '1116': 'aching muscles', '7': 'abscess', '884': 'loss of consciousness', '833': 'attempted suicide', '363': 'bad breath', '68': 'Arthritis infective', '930': 'loss of weight', '599': 'nasopharyngitis', '294': 'belching', '773': 'Rhinitis', '483': 'Colon Spastic', '587': 'heart attack', '524': 'hepatic neoplasia', '1152': 'azotaemia', '607': 'nervous tension', '1028': 'muscle weakness', '971': 'hypochloraemia', '979': 'cataract', '1118': 'abdominal pain upper', '1283': 'insomnia', '257': 'dyspepsia', '74': 'asthenia', '926': 'emesis', '736': 'Embolism pulmonary', '91': 'biliary tract disorder', '1083': 'colitis ischemic', '649': 'Extremity pain', '199': 'arteriosclerotic heart disease', '1126': 'Small intestinal obstruction', '662': 'Paraesthesia', '602': 'neoplasia', '837': 'Fainting', '461': 'blood sodium decreased', '807': 'sneezing', '1115': 'Feeling unwell', '459': 'hypokalaemia', '525': 'lower GI bleeding', '1010': 'migraine', '1069': 'intervertebral disc disorder', '640': 'osteoporosis', '444': 'High blood pressure', '1109': 'road traffic accident', '1310': 'diverticulosis', '70': 'Arthritis rheumatoid', '917': 'Abnormal vision', '63': 'arteriosclerosis', '836': 'bulging', '633': 'Osteoarthritis', '154': 'pleural pain', '344': 'acid reflux', '323': 'fibromyalgia', '546': 'breast pain', '650': 'palpitation', '411': 'herpes zoster', '110': 'Breast cyst', '589': 'myoglobinuria', '637': 'osteomalacia', '785': 'ischias', '65': 'Aching joints', '66': 'arthritis', '246': 'abuse', '180': 'colonic polyp', '162': 'cholecystitis', '1117': 'Dyspnea exertional', '1021': 'Extrasystoles Ventricular', '777': 'acne rosacea', '893': 'Incontinence', '340': 'gall bladder', '233': 'diabetic acidosis', '236': 'Diabetic Retinopathy', '96': 'blepharitis', '742': 'pyelonephritis', '936': 'aptyalism', '98': 'Blepharospasm', '41': 'aneurysm', '90': 'benign prostatic hyperplasia', '1228': 'wrist fracture', '241': 'dislocation', '1307': 'Superficial thrombophlebitis', '213': 'Decreased Libido', '214': 'decubitus ulcer', '756': 'kidney failure', '556': 'meningitides', '1096': 'ild', '1150': 'prostatism', '955': 'Atrioventricular block first degree', '201': 'Cough', '914': 'Vestibular disorder', '981': 'panic attack', '619': 'nightmare', '1296': 'wandering atrial pacemaker', '526': 'Breast Lump', '621': 'nocturia', '913': 'spinning sensation', '230': 'Diabetes', '116': 'bronchitis', '706': 'polyp', '638': 'osteomyelitis', '738': 'lung fibrosis', '401': 'enlarged liver', '935': 'laceration', '182': 'coma', '576': 'amyotrophy', '122': 'cachectic', '500': 'renal cyst', '678': 'neuropathy peripheral', '1164': 'collagenvascular disease', '87': 'Bacterial infection', '907': 'angiitis', '791': 'convulsion', '1079': 'iron deficiency anaemia', '1280': 'Cardiomyopathy', '113': 'bronchial spasm', '319': 'femur fracture', '1002': 'fascitis plantar', '373': 'Cardiac decompensation', '825': 'mucositis oral', '1046': 'joint swelling', '403': 'hernia', '349': 'glaucoma', '565': 'mitral valve disease NOS', '963': 'edema extremities', '997': 'pulmonary mass', '322': 'breast dysplasia', '685': 'Phlebitis', '530': 'lung neoplasms', '1256': 'balance disorder', '653': 'bone marrow failure', '215': 'deglutition disorder', '17': 'adrenal insufficiency', '1043': 'sensory disturbance', '1042': 'polyneuropathy', '1219': 'Nephrolithiasis', '253': 'dysarthria', '465': 'Hypotension Orthostatic', '788': 'Scoliosis', '1161': 'autonomic instability', '769': 'rhabdomyolysis', '1052': 'renal colic', '507': 'bundle branch block left', '831': 'apoplexy', '542': 'malabsorption', '54': 'aphasia', '32': 'Amnesia', '321': 'body temperature increased', '958': 'burning sensation', '950': 'chill', '683': 'phaeochromocytoma', '895': 'Infection Urinary Tract', '618': 'night sweat', '491': 'keratitis sicca', '216': 'dehydration', '78': 'Ataxia', '144': 'transient ischaemic attack', '142': 'cerebral haemorrhage', '232': 'Mod', '430': 'elevated cholesterol', '840': 'heart rate increased', '1186': 'eye swelling', '731': 'psychosexual disorder', '50': 'Anxiety', '312': 'facial palsy', '269': 'fat embolism', '891': 'ureteral obstruction', '494': 'disorder Renal', '605': 'nephrosclerosis', '23': 'delirium tremens', '69': 'psoriatic arthritis', '829': 'post traumatic stress disorder', '506': 'laryngitis', '905': 'angiopathy', '476': 'flu', '138': 'coeliac disease', '16': 'adjustment disorder', '543': 'carcinoid syndrome', '600': 'nausea', '1284': 'dysphasia', '1049': 'drug withdrawal', '688': 'Pleural Effusion', '802': 'Sinusitis', '426': 'Bilirubinaemia', '1237': 'amentia', '1133': 'cerebral atrophy', '148': 'cervicalgia', '436': 'hyperlipaemia', '108': 'metabolic encephalopathy', '234': 'Diabetic Nephropathy', '271': 'encephalitis', '1146': 'Intervertebral Disc Herniation', '80': 'Atherosclerosis', '52': 'aortic regurgitation', '608': 'Neuralgia', '388': 'hemiplegia', '1240': 'pneumonia Klebsiella', '737': 'emphysema', '81': 'AFIB', '711': 'Postherpetic Neuralgia', '283': 'Eosinophil Count Increased', '609': 'Neuritis', '1244': 'abnormal ECG', '336': 'Bone Fracture Spontaneous', '348': 'gingivitis', '1003': 'soft tissue infection', '329': 'floaters', '856': 'thyroid neoplasia', '1239': 'dental abscess', '871': 'dental pain', '1242': 'aseptic necrosis bone', '117': 'bruxism', '764': 'retinal bleeding', '1140': 'gingival pain', '632': 'bone inflammation', '126': 'candidiasis of mouth', '869': 'tooth disease', '1112': 'mouth pain', '487': 'arthropathy', '672': 'pericardial effusion', '1147': 'lung neoplasm malignant', '472': 'infection', '1231': 'blindness', '409': 'herpes simplex', '386': 'blood in urine', '511': 'Acute myeloblastic leukemia', '1018': 'abnormal EEG', '342': 'gastric inflammation', '1192': 'Transfusion reaction', '3': 'abortion spontaneous', '1006': 'urosepsis', '262': 'eating disorder', '784': 'schizophrenia', '374': 'cardiac murmur', '371': 'cardiac enlargement', '724': 'proteinuria', '1275': 'increased platelet count', '1103': 'odynophagia', '573': 'multiple sclerosis', '901': 'intraocular inflammation', '929': 'weight gain', '289': 'Convulsions Grand Mal', '282': 'Enuresis', '956': 'bundle branch block right', '680': 'Personality disorder', '798': 'salivary gland inflammation', '1210': 'pregnancy induced hypertension', '149': 'cervicitis', '405': 'hernia hiatal', '150': 'cervical dysplasia', '533': 'adenitis', '263': 'ecchymoses', '1262': 'tardive dyskinesia', '102': 'blood pressure abnormal', '940': 'muscle strain', '900': 'uterine infection', '717': 'Ejaculation Premature', '951': 'excessive thirst', '261': 'ear ache', '1020': 'elevated erythrocyte sedimentation rate', '427': 'Blood Calcium Increased', '1077': 'joint stiffness', '1218': 'phobia', '301': 'esophagitis', '606': 'nephrotic syndrome', '750': 'proctalgia', '1031': 'bone pain', '190': 'contracture', '720': 'proctitis', '817': 'spondylitis', '819': 'spondylosis', '1302': 'dyspareunia', '439': 'hyperparathyroidism', '806': 'sleep apnea', '748': 'Raynauds phenomenon', '1158': 'wound dehiscence', '1060': 'portal vein thrombosis', '366': 'head injury', '60': 'Arachnoiditis', '838': 'synovitis', '434': 'hyperhidrosis', '622': 'nystagmus', '345': 'gastrointestinal bleed', '59': 'apraxia', '1120': 'Rectal Tenesmus', '34': 'amyloidosis', '1309': 'Drug addiction', '723': 'prostatitis', '320': 'femoral neck fracture', '809': 'sleep walking', '1285': 'monoclonal gammopathy', '191': 'bruise', '168': 'Scar', '370': 'cardiac disease', '667': 'pain pelvic', '413': 'hip fracture', '1205': 'difficulty in walking', '654': 'panic disorder', '375': 'atrial septal defect', '845': 'Tendinitis', '1092': 'obstructive uropathy', '902': 'Colpitis', '1106': 'Rhagades', '1304': 'bone spur', '652': 'pancreatitis', '27': 'allergic rhinitis', '643': 'otitis media', '339': 'intestinal functional disorder', '317': 'faecal incontinence', '135': 'carpal tunnel', '382': 'haematochezia', '471': 'ADH inappropriate', '1230': 'neuropathy', '996': 'Chest infection', '1268': 'radiculopathy', '1312': 'dysphonia', '811': 'myelopathy', '553': 'black stools', '260': 'dysuria', '960': 'flashing lights', '1214': 'Electrolyte disorder', '1303': 'Decreased hearing', '566': 'mitral valve prolapse', '316': 'fatty liver', '629': 'mouth bleeding', '92': 'bipolar disorder', '268': 'embolism', '251': 'duodenitis', '550': 'malignant melanoma', '1263': 'ear infection', '954': 'sinus bradycardia', '716': 'atrial ectopic beats', '642': 'external ear infection', '592': 'muscle inflammation', '1163': 'cervical vertebral fracture', '425': 'hydronephrosis', '218': 'dental caries', '1089': 'elevated prostate specific antigen', '1001': 'mouth ulcer', '670': 'gastroduodenal ulcer', '326': 'fistula', '984': 'acute bronchitis', '361': 'gynaecomastia', '973': 'Hypophosphataemia', '435': 'Excess potassium', '1036': 'esophageal ulcer', '10': 'renal tubular acidosis', '910': 'phlebothrombosis', '1220': 'dysaesthesia', '357': 'goiter', '1102': 'metabolic alkalosis', '1235': 'Adenopathy', '1098': 'tympanic membrane perforation', '61': 'Arrhythmia', '952': 'Hepatic failure', '440': 'hyperalimentation', '939': 'Spinal fracture', '1148': 'Parkinson', '571': 'movement disorder', '541': 'macula lutea degeneration', '578': 'musculoskeletal pain', '730': 'psychosomatic disease', '1026': 'Cardiac ischemia', '1305': 'paranoia', '761': 'retinal degeneration', '985': 'chronic sinusitis', '883': 'ulcer', '775': 'rib fracture', '1173': 'rotator cuff syndrome', '470': 'impetigo', '988': 'fractured pelvis NOS', '889': 'Infection Upper Respiratory', '44': 'angioedema', '800': 'sick sinus syndrome', '449': 'hyperthyroidism', '372': 'cardiac failure', '1175': 'atrioventricular block second degree', '682': 'pharyngeal inflammation', '15': 'adenoma', '288': 'epilepsy', '1091': 'sinus arrest', '42': 'angina', '577': 'muscle disorder', '119': 'bundle branch block', '912': 'tachycardia ventricular', '616': 'melanocytic naevus', '575': 'cramp', '82': 'atrial flutter', '795': 'cardiovascular collapse', '437': 'hypernatraemia', '897': 'hive', '586': 'MPD', '908': 'syncope vasovagal', '828': 'streptococcal infection', '73': 'aspergillosis', '961': 'Light sensitivity', '279': 'enteritis', '103': 'bone marrow transplant', '1009': 'SCLC', '176': 'colitis', '451': 'elevated triglycerides', '1190': 'Glucose intolerance', '572': 'Multiple Myeloma', '1035': 'duodenal ulcer haemorrhage', '210': 'CMV infection', '387': 'hemiparesis', '966': 'polymyositis', '86': 'Bacteraemia', '864': 'onychomycosis', '1264': 'carcinoma of the colon', '1048': 'traumatic arthropathy', '588': 'myocarditis', '377': 'cardiac valvulopathy', '273': 'endocarditis', '1017': 'Atrioventricular block complete', '911': 'ventricular fibrillation', '341': 'gangrene', '484': 'ischaemia', '885': 'ADVERSE DRUG EFFECT', '1225': 'defaecation urgency', '520': 'cirrhosis', '880': 'trigeminal neuralgia', '419': 'hordeolum', '707': 'polyuria', '675': 'periodontal disease', '623': 'obesity', '356': 'glucosuria', '131': 'basal cell carcinoma', '1076': 'pulmonary arrest', '381': 'haematemesis', '360': 'granuloma', '555': 'meningeal irritation', '780': 'Salmonella', '231': 'insulin dependent diabetes mellitus', '313': 'failure to thrive', '132': 'Cardiac tamponade', '1073': 'ankle fracture', '399': 'hepatitis toxic', '275': 'endocrine disorder', '801': 'Sinus headache', '1013': 'renal abscess', '242': 'diverticulitis', '221': 'dermatitis exfoliative', '823': 'gastric dilatation', '93': 'distended bladder', '987': 'pancreatitis relapsing', '854': 'Thrombophlebitis', '1129': 'nasal septal perforation', '797': 'shoulder pain', '1229': 'Abnormal Laboratory Findings', '700': 'Polio', '1271': 'duodenal ulcer perforation', '1287': 'joint effusion', '376': 'ventricular septal defect', '67': 'gouty arthritis', '842': 'Supraventricular tachycardia', '26': 'respiratory alkalosis', '1022': 'haemorrhage intracranial', '1294': 'major depression', '1282': 'excessive sleepiness', '538': 'lymphoma', '1272': 'substance abuse', '45': 'animal bite', '146': 'cerebral vascular disorder', '1206': 'dry eye', '646': 'Ovarian Cyst', '953': 'micturition urgency', '894': 'Stress incontinence', '1047': 'hesitancy', '335': 'bone fracture', '620': 'nodule', '209': 'cyst', '1088': 'Abdominal hernia', '787': 'Scleroderma', '739': 'Cor pulmonale', '799': 'excessive salivation', '1127': 'right heart failure', '832': 'subarachnoid haemorrhage', '123': 'cancer', '808': 'soft tissue injuries', '1288': 'colitis pseudomembranous', '560': 'heavy menstrual period', '559': 'premature menopause', '407': 'umbilical hernia', '728': 'psoriasis', '224': 'contact dermatitis', '97': 'blepharoptosis', '347': 'Bleeding gums', '284': 'epicondylitis', '595': 'ingrowing nail', '790': 'dermatitis seborrheic', '127': 'candidiasis of vagina', '1165': 'Spinal Compression Fracture', '1245': 'palsies', '291': 'petit mal', '359': 'gout', '1281': 'cerebral ischaemia', '310': 'eyelid diseases', '824': 'gastric ulcer', '676': 'periodontitis', '285': 'Lyell', '493': 'seborrhoeic keratosis', '492': 'actinic keratosis', '157': 'choking', '708': 'dyshidrosis', '53': 'aortic stenosis', '390': 'coughing blood', '1097': 'radiation pneumonitis', '355': 'Glossitis', '88': 'bacterial pneumonia', '22': 'alcohol consumption', '1251': 'squamous cell carcinoma of skin', '1134': 'pancreatic cancer', '847': 'Tenosynovitis', '519': 'liver abscess', '584': 'myelodysplasia', '751': 'rectal polyp', '107': 'brain concussion', '805': 'cutaneous ulcer', '1122': 'menometrorrhagia', '311': 'face pain', '83': 'atrioventricular block', '452': 'breast enlargement', '1189': 'Eustachian tube disorder', '540': 'macroglossia', '1137': 'flashbacks', '983': 'acute sinusitis', '1142': 'Pelvic Inflammatory Disease', '1195': 'Altered Bowel Function', '1015': 'antinuclear antibody positive', '1128': 'galactorrhea', '783': 'schizoaffective disorder', '105': 'borderline personality disorder', '601': 'injury of neck', '792': 'Pharyngitis Streptococcal', '1075': 'Nephrogenic diabetes insipidus', '1030': 'hepatic necrosis', '446': 'portal hypertension', '235': 'Diabetic neuropathy', '109': 'brain neoplasm', '302': 'reflux esophagitis', '564': 'Breakthrough bleeding', '362': 'hair disease', '1171': 'Seroma', '1070': 'trigger finger', '603': 'Interstitial nephritis', '594': 'Nail disorder', '1011': 'allergic vasculitis', '517': 'lichen planus', '490': 'keratoacanthomas', '1217': 'milia', '134': 'carotid artery stenosis', '1135': 'gastric polyps', '1279': 'hyperkeratosis', '1259': 'toxic shock', '228': 'dermoid cyst', '947': 'essential hypertension', '397': 'hepatitis B', '851': 'tetralogy of Fallot', '1041': 'congenital heart disease', '994': 'hepatitis B surface antigen positive', '179': 'colon neoplasm', '161': 'cholecystectomies', '1258': 'Carcinoma of Prostate', '957': 'orthopnea', '1170': 'renal mass', '111': 'Breast disorder', '531': 'disseminated lupus erythematosus', '967': 'Onycholysis', '1162': 'breast tenderness', '567': 'mixed connective tissue disease', '1000': 'breast discharge', '943': 'Disorder Peripheral Vascular', '1099': 'limb malformation', '441': 'Hyperprolactinaemia', '1292': 'meningocele', '1196': 'acute psychosis', '1101': 'ketoacidosis', '782': 'sarcoidosis', '762': 'Detached retina', '1314': 'eosinophilic pneumonia', '155': 'Chest wall pain', '1191': 'tonsillar hypertrophy', '8': 'acanthosis nigricans', '1086': 'hyperpigmentation', '859': 'costochondritis', '19': 'agoraphobia', '1108': 'cheilosis', '1223': 'Easy bruisability', '628': 'OPTIC NEURITIS', '309': 'eye injury', '789': 'scotoma', '266': 'eczema', '876': 'tracheostomy', '998': 'Muscle Rupture', '641': 'bone sarcoma', '610': 'neuroblastoma', '548': 'mediastinal tumor', '295': 'erysipelas', '1104': 'paraparesis', '1144': 'color blindness', '402': 'hepatorenal syndrome', '400': 'Hepatitis C', '308': 'eye infection', '990': 'EBV infection', '151': 'Caesarean Section', '20': 'agranulocytoses', '681': 'petechia', '385': 'hematoma subdural', '351': 'glioma', '964': 'pyoderma gangrenosum', '727': 'benign intracranial hypertension', '141': 'cerebral artery embolism', '423': 'hydrocephalus', '978': 'hypogammaglobulinaemia', '1269': 'Acne', '445': 'malignant hypertension', '1188': 'acute otitis media', '713': 'Post nasal drip', '502': 'labyrinthitis', '804': 'Nodule Skin', '1016': 'atrophy of skin', '999': 'neck mass', '874': 'tracheitis', '1213': 'adenomyosis', '772': 'rheumatic heart disease', '920': 'Vitamin D Deficiency', '1253': 'kidney pain', '1270': 'hyperuricaemia', '813': 'splenectomy', '580': 'atypical mycobacterial infection', '664': 'parotitis', '948': 'choreoathetosis', '763': 'Disorder Retinal', '673': 'pericarditis', '469': 'cerumen impaction', '921': 'vitiligo', '663': 'paronychia', '181': 'colostomy', '870': 'Tooth Impacted', '855': 'thyroid disease', '51': 'aortic aneurysm', '226': 'dermatomyositis', '432': 'hyperaesthesia', '35': 'als', '145': 'cerebral palsy', '969': 'spider angioma', '114': 'bronchiectasis', '1019': 'encephalopathy hypertensive', '1187': 'retinal scar', '753': 'aplasia pure red cell', '40': 'anaemia hypochromic', '1145': 'furuncle', '677': 'periostitis', '2': 'birth defect', '140': 'cerebellar ataxia', '1156': 'autonomic neuropathy', '195': 'corneal disorder', '704': 'polymyalgia rheumatica', '404': 'diaphragmatic hernia', '536': 'lymphedema', '200': 'coronary artery bypass graft', '1174': 'pleural fibrosis', '844': 'temporal arteritis', '1080': 'polyarthritis', '684': 'phimosis', '503': 'Lacrimal Disorder', '1179': 'fecal occult blood', '986': 'cholecystitis acute', '475': 'inflammatory bowel disease', '846': 'tendon injury', '43': 'Prinzmetal variant angina', '412': 'hiccough', '793': 'serum sickness', '11': 'acquired immune deficiency syndrome', '38': 'Anemia aplastic', '106': 'brain abscess', '962': 'synovial cyst', '715': 'ectopic pregnancies', '657': 'Papilloma', '695': 'pneumonia primary atypical', '1050': 'retinopathy hypertensive', '645': 'Ovarian cancer', '1038': 'lung adenocarcinoma', '1265': 'Gastric Cancer', '860': 'tinea', '904': 'varicose vein', '686': 'pilonidal cyst', '205': 'cystic acne', '826': 'aphthous stomatitis', '862': 'body tinea', '705': 'familial adenomatous polyposis', '1037': 'intestinal ulcer', '225': 'Cutaneous mycosis', '173': 'coccidioidomycosis', '421': 'humerus fracture', '925': 'volvulus', '613': 'Neuromuscular Disorder', '1114': 'vaginal discharge', '1278': 'Pneumocystis carinii infection', '488': 'Keloid scar', '159': 'primary biliary cirrhosis', '995': 'left ventricular hypertrophy', '991': 'colon polypectomy', '48': 'anosmia', '850': 'tetany', '1234': 'abnormal cervical smear', '379': 'haemangioma', '1183': 'incisional hernia', '1160': 'abnormal mammogram', '71': 'Arthritis bacterial', '814': 'Splenic infarction', '406': 'Hernia Inguinal', '554': 'meningioma', '696': 'Pneumocystis carinii pneumonia', '1274': 'phlebitis superficial', '1166': 'gallbladder polyp', '1061': 'peritoneal adhesions', '1308': 'hypovitaminosis', '394': 'hepatic encephalopathy', '259': 'Dyspnoea paroxysmal nocturnal', '133': 'carotid bruit', '918': 'vitamin B 12 deficiency', '424': 'normal pressure hydrocephalus', '659': 'paraplegia', '196': 'Corneal dystrophy', '557': 'Aseptic meningitis', '24': 'Alcoholic intoxication', '137': 'causalgia', '1045': 'Irritation Skin', '937': 'Bradyarrhythmia', '192': 'conversion disorder', '1185': 'epidural abscess', '974': 'cholecystitis chronic', '1201': 'swollen scrotum', '365': 'hay fever', '579': 'myasthenia gravis', '898': 'fibroids', '835': 'superior vena cava syndrome', '547': 'mediastinal disorder', '1266': 'bladder cancer', '746': 'quadriplegia', '21': 'albuminuria', '112': 'Breast swelling', '722': 'neoplasm prostate', '734': 'alveolar proteinosis', '585': 'Bone marrow fibrosis', '415': 'histoplasmosis', '843': 'telangiectases', '771': 'Rheumatic fever', '611': 'neurodermatitis', '1090': 'fibroadenoma of breast', '1289': 'ganglion', '333': 'food allergy', '892': 'urethritis', '1051': 'ovulation pain', '945': 'bacterial vaginitis', '414': 'hirsuitism', '1311': 'Sjogrens syndrome', '922': 'vitreous detachment', '923': 'Vitreous haemorrhage', '909': 'venous insufficiency', '1029': 'nasal septum disorder', '1204': 'carcinoma of the cervix', '1208': 'Burns Second Degree', '729': 'tension headache', '1168': 'night cramps', '1249': 'pigmentation disorder', '489': 'keratitis', '499': 'kidney transplant', '229': 'diabetes insipidus', '337': 'fracture nonunion', '128': 'carbuncle', '332': 'folliculitis', '486': 'jaundice neonatal', '270': 'empyema', '169': 'cleft lip', '1212': 'Gastric ulcer perforated', '101': 'platelet disorder', '1062': 'gallbladder perforation', '1297': 'Rhinitis Seasonal', '29': 'allergic alveolitis', '125': 'cutaneous candidiasis', '177': 'chronic ulcerative colitis', '558': 'Meningitis Viral', '1094': 'Anal fistula', '1039': 'esophageal cancer', '1250': 'JRA', '422': 'hydrocele', '482': 'iritis', '152': 'chalazion', '62': 'arterial insufficiency', '95': 'neurogenic bladder', '598': 'nasal polyp', '899': 'uterine bleeding', '1066': 'Uterine polyp', '1199': 'musculoskeletal deformity', '1071': 'vascular anomaly', '868': 'tonsillitis', '749': 'hyperacusia', '280': 'enterocolitis', '1224': 'motor retardation', '202': 'cryptococcosis', '822': 'Fatty stools', '719': 'priapism', '933': 'Whiplash Injury', '1138': 'epidural hematoma', '760': 'Retinal artery occlusion', '612': 'neuroma', '398': 'chronic hepatitis', '992': 'food intolerance', '171': 'cluster headache', '582': 'mycosis fungoides', '188': 'connective tissue disease', '968': 'macrocytosis', '858': 'thyroiditis', '46': 'Anisocoria', '1113': 'rectal discharge', '410': 'Herpes ophthalmic', '890': 'calculus ureteric', '1078': 'thyroid cyst', '416': 'HIV disease', '1209': 'Endometrial Atrophy', '463': 'hypopituitarism', '561': 'Menstrual Disorder', '820': 'dysphemia', '647': 'oophorectomy', '1068': 'irregular menstrual cycle', '473': 'infectious mononucleosis', '1222': 'bladder atony', '563': 'methaemoglobinaemia', '651': 'pancreatic pseudocyst', '980': 'Benign Neoplasm', '938': 'Cerebral thrombosis', '1315': 'retinal vein thrombosis', '532': 'Lyme Disease', '527': 'lung abscess', '497': 'kidney neoplasm', '254': 'diarrhea infectious', '569': 'motion sickness', '454': 'hypoaldosteronism', '1141': 'testicular swelling', '690': 'pneumoconiosis', '1093': 'coronary angioplasty', '1054': 'Skin Striae', '970': 'hyperchloremia', '198': 'corneal ulcer', '1124': 'eye redness', '972': 'hyperphosphatemia', '655': 'panniculitis', '821': 'status epilepticus', '1254': 'sacroiliitis', '1252': 'chondrocalcinosis pyrophosphate', '875': 'Tracheobronchitis', '745': 'pyuria', '18': 'agnosia', '977': 'fibrosing alveolitis', '1215': 'hypervitaminosis', '709': 'Porphyria', '480': 'intussusception', '1005': 'amaurosis fugax', '516': 'leukoplakia of mouth', '946': 'gestational diabetes', '1203': 'xanthoma', '1238': 'Penile pain', '627': 'optic atrophy', '544': 'breast inflammation', '1159': 'xerosis', '712': 'postmenopausal bleeding', '812': 'spinal cord injury', '1197': 'esophageal rupture', '334': 'food poisoning', '752': 'rectal prolapse', '378': 'heat stroke', '443': 'hypersplenism', '187': 'conjunctivitis viral', '976': 'alcohol abuse', '513': 'multifocal leukoencephalopathy', '982': 'eustachian tube obstruction', '574': 'Mumps', '669': 'Peyronies Disease', '1167': 'global amnesia', '498': 'papillary necrosis', '211': 'dacrocystitis', '1154': 'encephalitis viral', '1107': 'avascular necrosis', '549': 'megacolon', '779': 'Salivary Gland Calculus', '160': 'Cholangitis sclerosing', '626': 'ophthalmoplegia', '380': 'haemarthrosis', '634': 'osteochondrosis', '287': 'epiglottitis', '314': 'fasciitis', '1012': 'Breast abscess', '614': 'Neurosis', '307': 'foreign body in eye', '590': 'myoma', '297': 'Erythema nodosum', '863': 'tinea pedis', '450': 'hypertrichosis', '710': 'tuberculin test positive', '458': 'hypogonadism', '1074': 'brachial plexus injury', '1243': 'hydroureter', '178': 'Collagen disease', '562': 'mental retardation', '396': 'Hepatitis A', '848': 'testes pain', '781': 'Salpingitis', '1125': 'colonic obstruction', '1056': 'disorders of lipid metabolism', '300': 'esophageal stenosis', '193': 'febrile convulsion', '551': 'melanosis', '1119': 'regurgitation', '1130': 'gallbladder cancer', '534': 'lymphangitis', '1211': 'parotid gland enlargement', '286': 'epididymitis', '1313': 'Morphea', '156': 'chicken pox', '393': 'hemothorax', '115': 'bronchiolitis', '174': 'coccydynia', '256': 'dysmenorrhea', '671': 'periarteritis nodosa', '274': 'bacterial endocarditis', '1295': 'Penile swelling', '194': 'corneal abrasion', '733': 'Pterygium', '766': 'pigmentary retinopathy', '714': 'Post thrombotic syndrome', '617': 'night blindness', '239': 'Diphtheria', '1316': 'glioblastoma multiforme', '276': 'Endometrial hyperplasia', '522': 'biliary cirrhosis', '6': 'premature separation of placenta', '292': 'episcleritis', '120': 'Bunion', '77': 'Astrocytoma', '244': 'trisomy 21', '1293': 'sarcoma', '1081': 'heat rash', '537': 'lymphocytosis', '754': 'reflex sympathetic dystrophy', '1298': 'adrenal carcinoma', '508': 'Legionella', '743': 'pyloric stenosis', '306': 'exophthalmos', '668': 'pemphigus', '1232': 'Endometrial cancer', '701': 'polycystic ovary disease', '1193': 'Viral Pharyngitis', '1202': 'Cystitis Interstitial', '879': 'trichomoniasis', '768': 'Retroperitoneal fibrosis', '665': 'Lice Infestation', '94': 'Bladder Neoplasm', '865': 'tinea versicolor', '170': 'cleft palate', '698': 'viral pneumonia', '460': 'hypomenorrhea', '703': 'Polymenorrhea', '75': 'asthenopia', '1053': 'lagophthalmos', '721': 'prolactinoma', '278': 'Endometritis', '277': 'endometriosis', '583': 'myelitis', '726': 'anal pruritus', '4': 'abortion missed', '636': 'osteoma', '1169': 'peripheral nerve injury', '718': 'PMs', '290': 'myoclonic epilepsy', '625': 'Oligomenorrhea', '504': 'lactose intolerance', '765': 'retinitis', '346': 'giardiasis', '818': 'ankylosing spondylitis', '755': 'refraction disorder', '350': 'angle closure glaucoma', '1306': 'breast neoplasm', '1063': 'acute glomerulonephritis', '1055': 'Viral rash NOS', '1040': 'gastric stasis', '331': 'folate deficiency', '481': 'iridocyclitis', '942': 'acute febrile neutrophilic dermatosis', '639': 'osteopetrosis', '1248': 'thyroid cancer', '1241': 'chronic active hepatitis', '857': 'thyroidectomy', '118': 'bulimia', '64': 'arteritis', '468': 'ichthyosis', '438': 'hypermetropia', '197': 'Corneal clouding', '203': 'cryptorchidism', '1087': 'depigmentation', '928': 'vulvovaginitis', '631': 'orchitis', '129': 'carcinoid tumour', '509': 'Leriche syndrome', '1299': 'renal cancer', '624': 'ocular hypertension', '535': 'Lymphatic Disorders', '1198': 'hepatitis C antibody positive', '886': 'Tympanic membrane disorder', '867': 'tonsillectomy', '852': 'Essential Thrombocythemia', '1007': 'adenoid hypertrophy', '147': 'cervical polyp', '903': 'varicocele', '1105': 'dandruff', '1172': 'vulval abscess', '265': 'ectropion', '839': 'syphilis', '521': 'alcoholic cirrhosis', '1095': 'Vaginal prolapse', '89': 'balanitis', '1067': 'vaginal dysplasia', '104': 'bone neoplasm', '989': 'Bicuspid Aortic Valve', '130': 'carcinoma', '660': 'parapsoriasis', '687': 'pityriasis', '477': 'Intertrigo', '183': 'anogenital warts', '453': 'salivary gland enlargement', '1233': 'dyslexia', '298': 'esophageal perforation', '227': 'dermatophytosis', '691': 'pneumonectomy', '237': 'Dermatitis diaper', '428': 'hypercalcinuria', '1014': 'thyroid adenoma', '264': 'eclampsia', '873': 'toxoplasmosis', '975': 'exploratory laparotomy', '30': 'amblyopia', '204': 'Cryptosporidiosis', '1300': 'infestation', '1111': 'hyperamylasaemia', '186': 'bacterial conjunctivitis', '1153': 'high risk pregnancy', '515': 'leukoplakia', '674': 'constrictive pericarditis', '568': 'molluscum contagiosum', '1139': 'cavernous sinus thrombosis', '944': 'Seasonal Affective Disorder', '1110': 'brachial neuritis', '206': 'Cystic Fibrosis', '1301': 'tinea cruris', '252': 'dwarfism', '164': 'chondrodystrophy', '389': 'hemoglobinuria', '906': 'vascular headache', '462': 'hypoparathyroidism', '281': 'entropion', '877': 'transurethral resection of the prostate', '318': 'faecal impaction', '1131': 'decreased lacrimation', '993': 'hematospermia', '1059': 'trifascicular block', '1247': 'meibomianitis', '934': 'Pertussis', '635': 'Osteogenesis Imperfecta', '786': 'scleritis', '448': 'renovascular hypertension', '1084': 'acute intermittent porphyria', '570': 'oral neoplasm', '353': 'IgA nephropathy', '338': 'ephelides', '1065': 'testicular atrophy', '919': 'vitamin B deficiency', '417': 'HIV positive', '927': 'vulvitis', '545': 'mast cell disease', '965': 'pyogenic granuloma', '1261': 'Haemophilia', '770': 'rhabdomyosarcoma', '165': 'choriocarcinoma', '1123': 'Oily Skin', '272': 'encopresis', '861': 'Tinea Capitis', '1276': 'hypospadias', '1151': 'eosinophilic pneumonia acute', '474': 'infertility', '408': 'genital herpes', '630': 'orchiectomy', '136': 'cataplexy', '208': 'CYSTO', '431': 'familial hypercholesterolemia', '849': 'tetanus', '478': 'parasitic infection intestinal', '167': 'hemophilia B', '1291': 'allergic bronchitis', '358': 'gonorrhea', '593': 'Myringitis', '644': 'otosclerosis', '702': 'erythremia', '915': 'Masculinization', '1121': 'penile discharge', '456': 'hypochondriasis', '1246': 'renal agenesis', '882': 'Typhoid', '166': 'chorioretinitis', '1177': 'breast malformation', '1085': 'neurofibromatosis', '776': 'rickets', '1178': 'supernumerary nipple', '219': 'skin abrasion', '1184': 'cervical stenosis', '896': 'urogenital abnormalities', '33': 'traumatic amputation', '794': 'sexually transmitted diseases', '1157': 'Herxheimer reaction', '774': 'Vasomotor Rhinitis', '1057': 'corneal degeneration', '1004': 'corticosteroid therapy', '12': 'Acromegaly', '49': 'anthrax', '5': 'septic abortion', '1227': 'anovulatory', '1064': 'bladder diverticulum', '778': 'Rubella', '1200': 'splinter', '501': 'hypogonadotropic hypogonadism', '552': 'chloasma', '303': 'estrogen replacement', '747': 'rabies'}\n",
      "1317\n"
     ]
    }
   ],
   "source": [
    "## label map\n",
    "\n",
    "from tdc.utils import get_label_map\n",
    "label_map = get_label_map(name = 'TWOSIDES', task = 'DDI', name_column = 'Side Effect Name')\n",
    "label_map = {str(k): v for k, v in label_map.items()}\n",
    "print(label_map)\n",
    "print(len(label_map))"
   ]
  },
  {
   "cell_type": "code",
   "execution_count": 3,
   "id": "18725bbc",
   "metadata": {},
   "outputs": [],
   "source": [
    "import json\n",
    "\n",
    "json.dump(label_map, open('label_map.json', 'w'))"
   ]
  },
  {
   "cell_type": "code",
   "execution_count": 4,
   "id": "43c50cff",
   "metadata": {},
   "outputs": [
    {
     "name": "stderr",
     "output_type": "stream",
     "text": [
      "Found local copy...\n",
      "Loading...\n",
      "Done!\n",
      "100%|██████████| 3254609/3254609 [13:12<00:00, 4107.11it/s]\n",
      "100%|██████████| 464944/464944 [01:54<00:00, 4076.00it/s]\n",
      "100%|██████████| 929888/929888 [03:46<00:00, 4107.36it/s]"
     ]
    },
    {
     "name": "stdout",
     "output_type": "stream",
     "text": [
      "645 4649441\n"
     ]
    },
    {
     "name": "stderr",
     "output_type": "stream",
     "text": [
      "\n"
     ]
    }
   ],
   "source": [
    "ts_data = DDI(name = 'TWOSIDES')\n",
    "ts_split = ts_data.get_split()\n",
    "twoside_drugs = set()\n",
    "\n",
    "triplets = {\n",
    "    'train': [],\n",
    "    'valid': [],\n",
    "    'test': []\n",
    "}\n",
    "all_triplets = []\n",
    "\n",
    "for i in tqdm(range(len(ts_split['train']))):\n",
    "    h = ts_split['train'].iloc[i]['Drug1_ID']\n",
    "    t = ts_split['train'].iloc[i]['Drug2_ID']\n",
    "    r = ts_split['train'].iloc[i]['Y']\n",
    "    twoside_drugs.add(h)\n",
    "    twoside_drugs.add(t)\n",
    "\n",
    "    triplets['train'].append((h, t, r))\n",
    "    all_triplets.append((h, t, r))\n",
    "    \n",
    "for i in tqdm(range(len(ts_split['valid']))):\n",
    "    h = ts_split['valid'].iloc[i]['Drug1_ID']\n",
    "    t = ts_split['valid'].iloc[i]['Drug2_ID']\n",
    "    r = ts_split['valid'].iloc[i]['Y']\n",
    "    twoside_drugs.add(h)\n",
    "    twoside_drugs.add(t)\n",
    "\n",
    "    triplets['valid'].append((h, t, r))\n",
    "    all_triplets.append((h, t, r))\n",
    "    \n",
    "for i in tqdm(range(len(ts_split['test']))):\n",
    "    h = ts_split['test'].iloc[i]['Drug1_ID']\n",
    "    t = ts_split['test'].iloc[i]['Drug2_ID']\n",
    "    r = ts_split['test'].iloc[i]['Y']\n",
    "    twoside_drugs.add(h)\n",
    "    twoside_drugs.add(t)\n",
    "\n",
    "    triplets['test'].append((h, t, r))\n",
    "    all_triplets.append((h, t, r))\n",
    "print(len(twoside_drugs), len(all_triplets))"
   ]
  },
  {
   "cell_type": "code",
   "execution_count": 5,
   "id": "5c037cd5",
   "metadata": {},
   "outputs": [
    {
     "name": "stdout",
     "output_type": "stream",
     "text": [
      "Number of Drug: 645\n",
      "Len of train: 3254609\n",
      "Len of valid: 464944\n",
      "Len of test: 929888\n",
      "Len of edges: 4649441\n"
     ]
    }
   ],
   "source": [
    "print(f\"Number of Drug: {len(twoside_drugs)}\")\n",
    "print(f\"Len of train: {len(triplets['train'])}\")\n",
    "print(f\"Len of valid: {len(triplets['valid'])}\")\n",
    "print(f\"Len of test: {len(triplets['test'])}\")\n",
    "print(f\"Len of edges: {len(all_triplets)}\")"
   ]
  },
  {
   "cell_type": "code",
   "execution_count": 6,
   "id": "5aee7d8e",
   "metadata": {},
   "outputs": [
    {
     "name": "stdout",
     "output_type": "stream",
     "text": [
      "                Drug1         Drug2   DDI\n",
      "0        CID000002173  CID000003345   767\n",
      "1        CID000002173  CID000003345    25\n",
      "2        CID000002173  CID000003345    85\n",
      "3        CID000002173  CID000003345   735\n",
      "4        CID000002173  CID000003345   959\n",
      "...               ...           ...   ...\n",
      "4649436  CID000000453  CID000004595   912\n",
      "4649437  CID000005391  CID000068740  1281\n",
      "4649438  CID000002909  CID000005978   289\n",
      "4649439  CID000003937  CID000077999     2\n",
      "4649440  CID000005212  CID006398525   201\n",
      "\n",
      "[4649441 rows x 3 columns]\n"
     ]
    }
   ],
   "source": [
    "all_df = pd.DataFrame(all_triplets, columns =['Drug1', 'Drug2', 'DDI'])\n",
    "\n",
    "print(all_df)"
   ]
  },
  {
   "cell_type": "code",
   "execution_count": 7,
   "id": "9e38f254",
   "metadata": {},
   "outputs": [],
   "source": [
    "all_df['DDI'].value_counts().reset_index().to_csv('twosides_frequency.csv', index=False, header=None)"
   ]
  },
  {
   "cell_type": "code",
   "execution_count": null,
   "id": "024bd9cd",
   "metadata": {},
   "outputs": [],
   "source": [
    "# import pickle\n",
    "# mfeat = []\n",
    "# rfeat = []\n",
    "# with open('id2drug_feat.pkl', 'rb') as f:\n",
    "#     x = pickle.load(f, encoding='utf-8') \n",
    "    \n",
    "# for z in x:\n",
    "#     y = x[z]['Morgan']\n",
    "#     mfeat.append(y)\n",
    "#     y = x[z]['rdkit2d']\n",
    "#     rfeat.append(y)\n",
    "#     feat_dim = 1024"
   ]
  },
  {
   "cell_type": "code",
   "execution_count": 8,
   "id": "36a5c9cc",
   "metadata": {},
   "outputs": [
    {
     "name": "stdout",
     "output_type": "stream",
     "text": [
      "{'CID000002173': 0, 'CID000003345': 1, 'CID000005206': 2, 'CID000009433': 3, 'CID000003929': 4, 'CID000150610': 5, 'CID000001302': 6, 'CID000005064': 7, 'CID000005267': 8, 'CID000010631': 9, 'CID000004601': 10, 'CID000005376': 11, 'CID000005090': 12, 'CID000005556': 13, 'CID000004946': 14, 'CID000130881': 15, 'CID000005391': 16, 'CID000005584': 17, 'CID000002802': 18, 'CID005381226': 19, 'CID000004212': 20, 'CID000060953': 21, 'CID000000596': 22, 'CID000005726': 23, 'CID000002522': 24, 'CID000003308': 25, 'CID000003405': 26, 'CID000060795': 27, 'CID000003446': 28, 'CID004183806': 29, 'CID000004107': 30, 'CID000004917': 31, 'CID000003161': 32, 'CID000071329': 33, 'CID000003823': 34, 'CID000003911': 35, 'CID000054454': 36, 'CID000002156': 37, 'CID000004411': 38, 'CID000002907': 39, 'CID000004192': 40, 'CID000083786': 41, 'CID000003348': 42, 'CID000000838': 43, 'CID000002617': 44, 'CID000001986': 45, 'CID000006691': 46, 'CID000004920': 47, 'CID000005478': 48, 'CID006398525': 49, 'CID000003937': 50, 'CID005311048': 51, 'CID000004158': 52, 'CID000005523': 53, 'CID000003696': 54, 'CID000004112': 55, 'CID000003899': 56, 'CID000004473': 57, 'CID000000853': 58, 'CID005311181': 59, 'CID000032797': 60, 'CID000059708': 61, 'CID000003826': 62, 'CID000003143': 63, 'CID000004736': 64, 'CID000005038': 65, 'CID000005039': 66, 'CID000005005': 67, 'CID005493444': 68, 'CID000003261': 69, 'CID000003746': 70, 'CID000028112': 71, 'CID000002162': 72, 'CID000003386': 73, 'CID000004259': 74, 'CID000119607': 75, 'CID000087177': 76, 'CID000003957': 77, 'CID000004509': 78, 'CID000004595': 79, 'CID000104865': 80, 'CID000002666': 81, 'CID000003007': 82, 'CID000004506': 83, 'CID000003559': 84, 'CID000004909': 85, 'CID000060831': 86, 'CID000002520': 87, 'CID000060852': 88, 'CID000060854': 89, 'CID000004889': 90, 'CID000003958': 91, 'CID005353980': 92, 'CID000005505': 93, 'CID000216326': 94, 'CID000038904': 95, 'CID005281007': 96, 'CID000004485': 97, 'CID000004539': 98, 'CID000005245': 99, 'CID000176870': 100, 'CID000039765': 101, 'CID000041774': 102, 'CID000667490': 103, 'CID000004635': 104, 'CID000065999': 105, 'CID000005656': 106, 'CID000005650': 107, 'CID000005651': 108, 'CID000004510': 109, 'CID000002554': 110, 'CID000005717': 111, 'CID000002650': 112, 'CID000003222': 113, 'CID000003749': 114, 'CID000004201': 115, 'CID000003440': 116, 'CID005481350': 117, 'CID000002909': 118, 'CID000057469': 119, 'CID000003075': 120, 'CID000027661': 121, 'CID000005647': 122, 'CID000123620': 123, 'CID000000271': 124, 'CID000002405': 125, 'CID000003016': 126, 'CID000004189': 127, 'CID000003750': 128, 'CID000004666': 129, 'CID000004173': 130, 'CID000005538': 131, 'CID000004159': 132, 'CID005311297': 133, 'CID000001065': 134, 'CID000002576': 135, 'CID000002541': 136, 'CID000002585': 137, 'CID000004543': 138, 'CID000004599': 139, 'CID000019090': 140, 'CID000003640': 141, 'CID000005512': 142, 'CID000005533': 143, 'CID000077999': 144, 'CID000002022': 145, 'CID000002092': 146, 'CID000000206': 147, 'CID000003793': 148, 'CID000036339': 149, 'CID000000450': 150, 'CID000002678': 151, 'CID000004927': 152, 'CID000002756': 153, 'CID000002803': 154, 'CID000005672': 155, 'CID000060835': 156, 'CID000005530': 157, 'CID000003657': 158, 'CID000003890': 159, 'CID004475485': 160, 'CID000002088': 161, 'CID000156419': 162, 'CID000004034': 163, 'CID000004451': 164, 'CID000002891': 165, 'CID000060865': 166, 'CID000004893': 167, 'CID000005358': 168, 'CID000004894': 169, 'CID000005234': 170, 'CID000002578': 171, 'CID006447131': 172, 'CID000002118': 173, 'CID000003715': 174, 'CID000004264': 175, 'CID000003062': 176, 'CID000003825': 177, 'CID000004052': 178, 'CID000002487': 179, 'CID000216239': 180, 'CID000003152': 181, 'CID000027686': 182, 'CID000004723': 183, 'CID000003883': 184, 'CID000003157': 185, 'CID000003154': 186, 'CID000000214': 187, 'CID000003003': 188, 'CID000003158': 189, 'CID000003333': 190, 'CID006398970': 191, 'CID000003648': 192, 'CID000000772': 193, 'CID003081884': 194, 'CID000005544': 195, 'CID000003365': 196, 'CID000060147': 197, 'CID000002609': 198, 'CID000004594': 199, 'CID000002656': 200, 'CID000002662': 201, 'CID000003661': 202, 'CID000004419': 203, 'CID000004679': 204, 'CID000005210': 205, 'CID000005203': 206, 'CID000003043': 207, 'CID000124087': 208, 'CID000003516': 209, 'CID000003510': 210, 'CID000005040': 211, 'CID000152945': 212, 'CID000003404': 213, 'CID000003324': 214, 'CID000003325': 215, 'CID000004900': 216, 'CID000004856': 217, 'CID000122316': 218, 'CID000004054': 219, 'CID000003255': 220, 'CID000005077': 221, 'CID000005095': 222, 'CID000003878': 223, 'CID000004058': 224, 'CID000002244': 225, 'CID000054374': 226, 'CID000060843': 227, 'CID000160051': 228, 'CID000002771': 229, 'CID000005735': 230, 'CID000003279': 231, 'CID005311039': 232, 'CID000004253': 233, 'CID000004497': 234, 'CID004659568': 235, 'CID000005732': 236, 'CID000004499': 237, 'CID000062924': 238, 'CID000000453': 239, 'CID000000159': 240, 'CID000005035': 241, 'CID000163742': 242, 'CID000003419': 243, 'CID000443871': 244, 'CID000002800': 245, 'CID000002806': 246, 'CID000005379': 247, 'CID000054688': 248, 'CID000012536': 249, 'CID000123606': 250, 'CID000004463': 251, 'CID000005487': 252, 'CID000036811': 253, 'CID000005734': 254, 'CID000003463': 255, 'CID000004583': 256, 'CID000000598': 257, 'CID000002284': 258, 'CID000005029': 259, 'CID000003639': 260, 'CID003085017': 261, 'CID005281104': 262, 'CID000004829': 263, 'CID000003385': 264, 'CID000060198': 265, 'CID000005195': 266, 'CID000003203': 267, 'CID000003877': 268, 'CID000003954': 269, 'CID000002153': 270, 'CID000077993': 271, 'CID000002732': 272, 'CID000005155': 273, 'CID000005152': 274, 'CID003468412': 275, 'CID000005645': 276, 'CID000071616': 277, 'CID000074989': 278, 'CID000003676': 279, 'CID000003367': 280, 'CID000003672': 281, 'CID000003734': 282, 'CID000003736': 283, 'CID000003730': 284, 'CID000002726': 285, 'CID000003393': 286, 'CID000004999': 287, 'CID005329102': 288, 'CID000004547': 289, 'CID000004691': 290, 'CID000002471': 291, 'CID000003305': 292, 'CID000002631': 293, 'CID000003410': 294, 'CID000003449': 295, 'CID000002083': 296, 'CID000001690': 297, 'CID000005731': 298, 'CID000004046': 299, 'CID000001972': 300, 'CID000002171': 301, 'CID000003403': 302, 'CID000005746': 303, 'CID000005978': 304, 'CID000000444': 305, 'CID000153941': 306, 'CID000004075': 307, 'CID000003675': 308, 'CID000004585': 309, 'CID000005078': 310, 'CID000041693': 311, 'CID000041781': 312, 'CID000003869': 313, 'CID000005372': 314, 'CID000003961': 315, 'CID000213039': 316, 'CID000004991': 317, 'CID000004091': 318, 'CID000005496': 319, 'CID000001117': 320, 'CID000005076': 321, 'CID000003962': 322, 'CID000003355': 323, 'CID000002719': 324, 'CID000002712': 325, 'CID000002713': 326, 'CID000657298': 327, 'CID000091270': 328, 'CID000004200': 329, 'CID000005412': 330, 'CID000042113': 331, 'CID000003108': 332, 'CID000002250': 333, 'CID000170361': 334, 'CID000002265': 335, 'CID000002801': 336, 'CID000034312': 337, 'CID000072054': 338, 'CID000002749': 339, 'CID000004168': 340, 'CID000002720': 341, 'CID000154059': 342, 'CID000005394': 343, 'CID000004634': 344, 'CID000002764': 345, 'CID000000942': 346, 'CID000002160': 347, 'CID000004211': 348, 'CID000004170': 349, 'CID000004171': 350, 'CID000002550': 351, 'CID000004885': 352, 'CID000004616': 353, 'CID000004614': 354, 'CID000003042': 355, 'CID000005212': 356, 'CID000054547': 357, 'CID000001206': 358, 'CID000004603': 359, 'CID000004609': 360, 'CID005487301': 361, 'CID000047725': 362, 'CID000125017': 363, 'CID000004138': 364, 'CID000005719': 365, 'CID000005514': 366, 'CID000003394': 367, 'CID000002311': 368, 'CID000003148': 369, 'CID000147912': 370, 'CID000001775': 371, 'CID000003767': 372, 'CID000002658': 373, 'CID000000861': 374, 'CID000002462': 375, 'CID000125889': 376, 'CID000104741': 377, 'CID000056339': 378, 'CID000003032': 379, 'CID000002187': 380, 'CID000002267': 381, 'CID000001546': 382, 'CID000002249': 383, 'CID005311082': 384, 'CID000003488': 385, 'CID003002190': 386, 'CID000002951': 387, 'CID000004740': 388, 'CID000005253': 389, 'CID000003249': 390, 'CID000003690': 391, 'CID000005572': 392, 'CID000002955': 393, 'CID000002818': 394, 'CID000003379': 395, 'CID000004911': 396, 'CID000005408': 397, 'CID000002895': 398, 'CID000068740': 399, 'CID000008953': 400, 'CID000051263': 401, 'CID000002435': 402, 'CID000002812': 403, 'CID000002524': 404, 'CID000003706': 405, 'CID000060871': 406, 'CID000004943': 407, 'CID000003478': 408, 'CID000005578': 409, 'CID000060815': 410, 'CID000005401': 411, 'CID000003652': 412, 'CID000000581': 413, 'CID000068844': 414, 'CID005282226': 415, 'CID000004409': 416, 'CID000004812': 417, 'CID000002733': 418, 'CID000003310': 419, 'CID000005184': 420, 'CID000005073': 421, 'CID000003350': 422, 'CID000093860': 423, 'CID000064147': 424, 'CID000003658': 425, 'CID006918453': 426, 'CID005493381': 427, 'CID000005291': 428, 'CID000150311': 429, 'CID000002978': 430, 'CID000003339': 431, 'CID000002476': 432, 'CID000002308': 433, 'CID000000143': 434, 'CID000000937': 435, 'CID000002786': 436, 'CID000005402': 437, 'CID000057537': 438, 'CID000001071': 439, 'CID000004513': 440, 'CID000005596': 441, 'CID000016231': 442, 'CID004479097': 443, 'CID000054808': 444, 'CID000000191': 445, 'CID000002477': 446, 'CID000003066': 447, 'CID000003008': 448, 'CID000060754': 449, 'CID000002676': 450, 'CID000151165': 451, 'CID000054841': 452, 'CID000004675': 453, 'CID000003168': 454, 'CID000003476': 455, 'CID000004536': 456, 'CID000004873': 457, 'CID000004205': 458, 'CID000005002': 459, 'CID000002474': 460, 'CID000003121': 461, 'CID000004730': 462, 'CID000004845': 463, 'CID000003467': 464, 'CID000000815': 465, 'CID000003763': 466, 'CID000004236': 467, 'CID005282044': 468, 'CID000504578': 469, 'CID005362070': 470, 'CID000003902': 471, 'CID000003780': 472, 'CID000065027': 473, 'CID005362420': 474, 'CID000056959': 475, 'CID000444013': 476, 'CID000009052': 477, 'CID000002269': 478, 'CID000110635': 479, 'CID000004044': 480, 'CID000005472': 481, 'CID000001971': 482, 'CID000005426': 483, 'CID000003454': 484, 'CID000004449': 485, 'CID000072467': 486, 'CID000005454': 487, 'CID000003642': 488, 'CID000001046': 489, 'CID000001983': 490, 'CID000131536': 491, 'CID000004178': 492, 'CID000003198': 493, 'CID000003928': 494, 'CID000004542': 495, 'CID005311027': 496, 'CID000002142': 497, 'CID000508230': 498, 'CID000110634': 499, 'CID000024486': 500, 'CID000004674': 501, 'CID000004828': 502, 'CID000004428': 503, 'CID000004064': 504, 'CID000047320': 505, 'CID000071158': 506, 'CID000002949': 507, 'CID000001978': 508, 'CID000000158': 509, 'CID000005771': 510, 'CID000003461': 511, 'CID000004993': 512, 'CID000054786': 513, 'CID000000564': 514, 'CID000003724': 515, 'CID000176168': 516, 'CID000004095': 517, 'CID000004440': 518, 'CID000060184': 519, 'CID000024011': 520, 'CID000148211': 521, 'CID000000085': 522, 'CID000003702': 523, 'CID000013342': 524, 'CID000004834': 525, 'CID000005466': 526, 'CID000002099': 527, 'CID000123631': 528, 'CID000002375': 529, 'CID000003117': 530, 'CID000002646': 531, 'CID000002512': 532, 'CID000003114': 533, 'CID000003414': 534, 'CID000003059': 535, 'CID000148192': 536, 'CID003062316': 537, 'CID000002995': 538, 'CID000005878': 539, 'CID000002141': 540, 'CID000005381': 541, 'CID000004771': 542, 'CID000060787': 543, 'CID000060877': 544, 'CID000003827': 545, 'CID000003821': 546, 'CID000002130': 547, 'CID000005453': 548, 'CID000003373': 549, 'CID000003372': 550, 'CID000002519': 551, 'CID000041317': 552, 'CID000115237': 553, 'CID000005352': 554, 'CID000003040': 555, 'CID000197712': 556, 'CID000060164': 557, 'CID000004748': 558, 'CID000004745': 559, 'CID000002478': 560, 'CID000003278': 561, 'CID000002622': 562, 'CID000003741': 563, 'CID000002610': 564, 'CID000004819': 565, 'CID000005593': 566, 'CID000003914': 567, 'CID000003784': 568, 'CID000014888': 569, 'CID000002708': 570, 'CID000003397': 571, 'CID006436173': 572, 'CID000000119': 573, 'CID001349907': 574, 'CID000004053': 575, 'CID000060612': 576, 'CID000003964': 577, 'CID000004425': 578, 'CID000002274': 579, 'CID000150310': 580, 'CID000005525': 581, 'CID000004727': 582, 'CID000003384': 583, 'CID000002973': 584, 'CID000003494': 585, 'CID000002349': 586, 'CID000002283': 587, 'CID006435110': 588, 'CID000005297': 589, 'CID000005515': 590, 'CID000048175': 591, 'CID000002637': 592, 'CID000027991': 593, 'CID000002177': 594, 'CID000060696': 595, 'CID000004739': 596, 'CID000077992': 597, 'CID000002019': 598, 'CID004659569': 599, 'CID000004607': 600, 'CID000005052': 601, 'CID000119182': 602, 'CID000005215': 603, 'CID000005486': 604, 'CID000145068': 605, 'CID000003637': 606, 'CID000072938': 607, 'CID000003382': 608, 'CID000004140': 609, 'CID000004195': 610, 'CID000002215': 611, 'CID000000298': 612, 'CID000444033': 613, 'CID000082146': 614, 'CID000004932': 615, 'CID000002266': 616, 'CID000002369': 617, 'CID000002232': 618, 'CID005473385': 619, 'CID000003291': 620, 'CID000002725': 621, 'CID000002675': 622, 'CID000004645': 623, 'CID000004913': 624, 'CID000001134': 625, 'CID000071273': 626, 'CID000003562': 627, 'CID000002551': 628, 'CID000002727': 629, 'CID000002673': 630, 'CID000002370': 631, 'CID000039860': 632, 'CID000005721': 633, 'CID000012620': 634, 'CID000040976': 635, 'CID000005070': 636, 'CID000051634': 637, 'CID000003381': 638, 'CID000002170': 639, 'CID003086258': 640, 'CID009571074': 641, 'CID000004011': 642, 'CID000002182': 643, 'CID000005482': 644}\n",
      "dict_keys(['CID000002173', 'CID000003345', 'CID000005206', 'CID000009433', 'CID000003929', 'CID000150610', 'CID000001302', 'CID000005064', 'CID000005267', 'CID000010631', 'CID000004601', 'CID000005376', 'CID000005090', 'CID000005556', 'CID000004946', 'CID000130881', 'CID000005391', 'CID000005584', 'CID000002802', 'CID005381226', 'CID000004212', 'CID000060953', 'CID000000596', 'CID000005726', 'CID000002522', 'CID000003308', 'CID000003405', 'CID000060795', 'CID000003446', 'CID004183806', 'CID000004107', 'CID000004917', 'CID000003161', 'CID000071329', 'CID000003823', 'CID000003911', 'CID000054454', 'CID000002156', 'CID000004411', 'CID000002907', 'CID000004192', 'CID000083786', 'CID000003348', 'CID000000838', 'CID000002617', 'CID000001986', 'CID000006691', 'CID000004920', 'CID000005478', 'CID006398525', 'CID000003937', 'CID005311048', 'CID000004158', 'CID000005523', 'CID000003696', 'CID000004112', 'CID000003899', 'CID000004473', 'CID000000853', 'CID005311181', 'CID000032797', 'CID000059708', 'CID000003826', 'CID000003143', 'CID000004736', 'CID000005038', 'CID000005039', 'CID000005005', 'CID005493444', 'CID000003261', 'CID000003746', 'CID000028112', 'CID000002162', 'CID000003386', 'CID000004259', 'CID000119607', 'CID000087177', 'CID000003957', 'CID000004509', 'CID000004595', 'CID000104865', 'CID000002666', 'CID000003007', 'CID000004506', 'CID000003559', 'CID000004909', 'CID000060831', 'CID000002520', 'CID000060852', 'CID000060854', 'CID000004889', 'CID000003958', 'CID005353980', 'CID000005505', 'CID000216326', 'CID000038904', 'CID005281007', 'CID000004485', 'CID000004539', 'CID000005245', 'CID000176870', 'CID000039765', 'CID000041774', 'CID000667490', 'CID000004635', 'CID000065999', 'CID000005656', 'CID000005650', 'CID000005651', 'CID000004510', 'CID000002554', 'CID000005717', 'CID000002650', 'CID000003222', 'CID000003749', 'CID000004201', 'CID000003440', 'CID005481350', 'CID000002909', 'CID000057469', 'CID000003075', 'CID000027661', 'CID000005647', 'CID000123620', 'CID000000271', 'CID000002405', 'CID000003016', 'CID000004189', 'CID000003750', 'CID000004666', 'CID000004173', 'CID000005538', 'CID000004159', 'CID005311297', 'CID000001065', 'CID000002576', 'CID000002541', 'CID000002585', 'CID000004543', 'CID000004599', 'CID000019090', 'CID000003640', 'CID000005512', 'CID000005533', 'CID000077999', 'CID000002022', 'CID000002092', 'CID000000206', 'CID000003793', 'CID000036339', 'CID000000450', 'CID000002678', 'CID000004927', 'CID000002756', 'CID000002803', 'CID000005672', 'CID000060835', 'CID000005530', 'CID000003657', 'CID000003890', 'CID004475485', 'CID000002088', 'CID000156419', 'CID000004034', 'CID000004451', 'CID000002891', 'CID000060865', 'CID000004893', 'CID000005358', 'CID000004894', 'CID000005234', 'CID000002578', 'CID006447131', 'CID000002118', 'CID000003715', 'CID000004264', 'CID000003062', 'CID000003825', 'CID000004052', 'CID000002487', 'CID000216239', 'CID000003152', 'CID000027686', 'CID000004723', 'CID000003883', 'CID000003157', 'CID000003154', 'CID000000214', 'CID000003003', 'CID000003158', 'CID000003333', 'CID006398970', 'CID000003648', 'CID000000772', 'CID003081884', 'CID000005544', 'CID000003365', 'CID000060147', 'CID000002609', 'CID000004594', 'CID000002656', 'CID000002662', 'CID000003661', 'CID000004419', 'CID000004679', 'CID000005210', 'CID000005203', 'CID000003043', 'CID000124087', 'CID000003516', 'CID000003510', 'CID000005040', 'CID000152945', 'CID000003404', 'CID000003324', 'CID000003325', 'CID000004900', 'CID000004856', 'CID000122316', 'CID000004054', 'CID000003255', 'CID000005077', 'CID000005095', 'CID000003878', 'CID000004058', 'CID000002244', 'CID000054374', 'CID000060843', 'CID000160051', 'CID000002771', 'CID000005735', 'CID000003279', 'CID005311039', 'CID000004253', 'CID000004497', 'CID004659568', 'CID000005732', 'CID000004499', 'CID000062924', 'CID000000453', 'CID000000159', 'CID000005035', 'CID000163742', 'CID000003419', 'CID000443871', 'CID000002800', 'CID000002806', 'CID000005379', 'CID000054688', 'CID000012536', 'CID000123606', 'CID000004463', 'CID000005487', 'CID000036811', 'CID000005734', 'CID000003463', 'CID000004583', 'CID000000598', 'CID000002284', 'CID000005029', 'CID000003639', 'CID003085017', 'CID005281104', 'CID000004829', 'CID000003385', 'CID000060198', 'CID000005195', 'CID000003203', 'CID000003877', 'CID000003954', 'CID000002153', 'CID000077993', 'CID000002732', 'CID000005155', 'CID000005152', 'CID003468412', 'CID000005645', 'CID000071616', 'CID000074989', 'CID000003676', 'CID000003367', 'CID000003672', 'CID000003734', 'CID000003736', 'CID000003730', 'CID000002726', 'CID000003393', 'CID000004999', 'CID005329102', 'CID000004547', 'CID000004691', 'CID000002471', 'CID000003305', 'CID000002631', 'CID000003410', 'CID000003449', 'CID000002083', 'CID000001690', 'CID000005731', 'CID000004046', 'CID000001972', 'CID000002171', 'CID000003403', 'CID000005746', 'CID000005978', 'CID000000444', 'CID000153941', 'CID000004075', 'CID000003675', 'CID000004585', 'CID000005078', 'CID000041693', 'CID000041781', 'CID000003869', 'CID000005372', 'CID000003961', 'CID000213039', 'CID000004991', 'CID000004091', 'CID000005496', 'CID000001117', 'CID000005076', 'CID000003962', 'CID000003355', 'CID000002719', 'CID000002712', 'CID000002713', 'CID000657298', 'CID000091270', 'CID000004200', 'CID000005412', 'CID000042113', 'CID000003108', 'CID000002250', 'CID000170361', 'CID000002265', 'CID000002801', 'CID000034312', 'CID000072054', 'CID000002749', 'CID000004168', 'CID000002720', 'CID000154059', 'CID000005394', 'CID000004634', 'CID000002764', 'CID000000942', 'CID000002160', 'CID000004211', 'CID000004170', 'CID000004171', 'CID000002550', 'CID000004885', 'CID000004616', 'CID000004614', 'CID000003042', 'CID000005212', 'CID000054547', 'CID000001206', 'CID000004603', 'CID000004609', 'CID005487301', 'CID000047725', 'CID000125017', 'CID000004138', 'CID000005719', 'CID000005514', 'CID000003394', 'CID000002311', 'CID000003148', 'CID000147912', 'CID000001775', 'CID000003767', 'CID000002658', 'CID000000861', 'CID000002462', 'CID000125889', 'CID000104741', 'CID000056339', 'CID000003032', 'CID000002187', 'CID000002267', 'CID000001546', 'CID000002249', 'CID005311082', 'CID000003488', 'CID003002190', 'CID000002951', 'CID000004740', 'CID000005253', 'CID000003249', 'CID000003690', 'CID000005572', 'CID000002955', 'CID000002818', 'CID000003379', 'CID000004911', 'CID000005408', 'CID000002895', 'CID000068740', 'CID000008953', 'CID000051263', 'CID000002435', 'CID000002812', 'CID000002524', 'CID000003706', 'CID000060871', 'CID000004943', 'CID000003478', 'CID000005578', 'CID000060815', 'CID000005401', 'CID000003652', 'CID000000581', 'CID000068844', 'CID005282226', 'CID000004409', 'CID000004812', 'CID000002733', 'CID000003310', 'CID000005184', 'CID000005073', 'CID000003350', 'CID000093860', 'CID000064147', 'CID000003658', 'CID006918453', 'CID005493381', 'CID000005291', 'CID000150311', 'CID000002978', 'CID000003339', 'CID000002476', 'CID000002308', 'CID000000143', 'CID000000937', 'CID000002786', 'CID000005402', 'CID000057537', 'CID000001071', 'CID000004513', 'CID000005596', 'CID000016231', 'CID004479097', 'CID000054808', 'CID000000191', 'CID000002477', 'CID000003066', 'CID000003008', 'CID000060754', 'CID000002676', 'CID000151165', 'CID000054841', 'CID000004675', 'CID000003168', 'CID000003476', 'CID000004536', 'CID000004873', 'CID000004205', 'CID000005002', 'CID000002474', 'CID000003121', 'CID000004730', 'CID000004845', 'CID000003467', 'CID000000815', 'CID000003763', 'CID000004236', 'CID005282044', 'CID000504578', 'CID005362070', 'CID000003902', 'CID000003780', 'CID000065027', 'CID005362420', 'CID000056959', 'CID000444013', 'CID000009052', 'CID000002269', 'CID000110635', 'CID000004044', 'CID000005472', 'CID000001971', 'CID000005426', 'CID000003454', 'CID000004449', 'CID000072467', 'CID000005454', 'CID000003642', 'CID000001046', 'CID000001983', 'CID000131536', 'CID000004178', 'CID000003198', 'CID000003928', 'CID000004542', 'CID005311027', 'CID000002142', 'CID000508230', 'CID000110634', 'CID000024486', 'CID000004674', 'CID000004828', 'CID000004428', 'CID000004064', 'CID000047320', 'CID000071158', 'CID000002949', 'CID000001978', 'CID000000158', 'CID000005771', 'CID000003461', 'CID000004993', 'CID000054786', 'CID000000564', 'CID000003724', 'CID000176168', 'CID000004095', 'CID000004440', 'CID000060184', 'CID000024011', 'CID000148211', 'CID000000085', 'CID000003702', 'CID000013342', 'CID000004834', 'CID000005466', 'CID000002099', 'CID000123631', 'CID000002375', 'CID000003117', 'CID000002646', 'CID000002512', 'CID000003114', 'CID000003414', 'CID000003059', 'CID000148192', 'CID003062316', 'CID000002995', 'CID000005878', 'CID000002141', 'CID000005381', 'CID000004771', 'CID000060787', 'CID000060877', 'CID000003827', 'CID000003821', 'CID000002130', 'CID000005453', 'CID000003373', 'CID000003372', 'CID000002519', 'CID000041317', 'CID000115237', 'CID000005352', 'CID000003040', 'CID000197712', 'CID000060164', 'CID000004748', 'CID000004745', 'CID000002478', 'CID000003278', 'CID000002622', 'CID000003741', 'CID000002610', 'CID000004819', 'CID000005593', 'CID000003914', 'CID000003784', 'CID000014888', 'CID000002708', 'CID000003397', 'CID006436173', 'CID000000119', 'CID001349907', 'CID000004053', 'CID000060612', 'CID000003964', 'CID000004425', 'CID000002274', 'CID000150310', 'CID000005525', 'CID000004727', 'CID000003384', 'CID000002973', 'CID000003494', 'CID000002349', 'CID000002283', 'CID006435110', 'CID000005297', 'CID000005515', 'CID000048175', 'CID000002637', 'CID000027991', 'CID000002177', 'CID000060696', 'CID000004739', 'CID000077992', 'CID000002019', 'CID004659569', 'CID000004607', 'CID000005052', 'CID000119182', 'CID000005215', 'CID000005486', 'CID000145068', 'CID000003637', 'CID000072938', 'CID000003382', 'CID000004140', 'CID000004195', 'CID000002215', 'CID000000298', 'CID000444033', 'CID000082146', 'CID000004932', 'CID000002266', 'CID000002369', 'CID000002232', 'CID005473385', 'CID000003291', 'CID000002725', 'CID000002675', 'CID000004645', 'CID000004913', 'CID000001134', 'CID000071273', 'CID000003562', 'CID000002551', 'CID000002727', 'CID000002673', 'CID000002370', 'CID000039860', 'CID000005721', 'CID000012620', 'CID000040976', 'CID000005070', 'CID000051634', 'CID000003381', 'CID000002170', 'CID003086258', 'CID009571074', 'CID000004011', 'CID000002182', 'CID000005482'])\n"
     ]
    }
   ],
   "source": [
    "## filtered by id2drug.json and generate a map id2cid and cid2id\n",
    "import json\n",
    "\n",
    "# id2drug_json = json.load(open('id2drug.json'))\n",
    "\n",
    "\n",
    "cid2id = {}\n",
    "\n",
    "for (h,t,r) in all_triplets:\n",
    "    if h not in cid2id.keys():\n",
    "        cid2id[h] = len(cid2id)\n",
    "    if t not in cid2id.keys():\n",
    "        cid2id[t] = len(cid2id)\n",
    "        \n",
    "\n",
    "cids = cid2id.keys()\n",
    "f = open('cid2id.json', 'w')\n",
    "f.write(json.dumps(cid2id))\n",
    "f.close()\n",
    "print(cid2id)\n",
    "print(cid2id.keys())\n",
    "id2cid=dict([val,key] for key,val in cid2id.items())\n"
   ]
  },
  {
   "cell_type": "code",
   "execution_count": 9,
   "id": "ae0e9c1d",
   "metadata": {},
   "outputs": [
    {
     "name": "stdout",
     "output_type": "stream",
     "text": [
      "1311\n",
      "{464: 0, 37: 1, 258: 2, 600: 3, 692: 4, 315: 5, 648: 6, 238: 7, 74: 8, 926: 9, 963: 10, 321: 11, 154: 12, 1: 13, 1221: 14, 153: 15, 243: 16, 85: 17, 367: 18, 444: 19, 184: 20, 216: 21, 50: 22, 756: 23, 930: 24, 433: 25, 267: 26, 47: 27, 65: 28, 495: 29, 1230: 30, 649: 31, 895: 32, 201: 33, 189: 34, 840: 35, 929: 36, 853: 37, 688: 38, 1155: 39, 373: 40, 587: 41, 1286: 42, 81: 43, 245: 44, 304: 45, 1283: 46, 810: 47, 831: 48, 615: 49, 461: 50, 1115: 51, 878: 52, 215: 53, 139: 54, 596: 55, 884: 56, 959: 57, 391: 58, 344: 59, 32: 60, 430: 61, 1255: 62, 950: 63, 837: 64, 791: 65, 116: 66, 887: 67, 199: 68, 434: 69, 1216: 70, 725: 71, 1236: 72, 472: 73, 1118: 74, 257: 75, 662: 76, 1033: 77, 802: 78, 223: 79, 230: 80, 459: 81, 1116: 82, 653: 83, 364: 84, 369: 85, 457: 86, 61: 87, 0: 88, 735: 89, 736: 90, 1226: 91, 79: 92, 1257: 93, 1008: 94, 1143: 95, 345: 96, 1273: 97, 529: 98, 650: 99, 370: 100, 1028: 101, 678: 102, 442: 103, 76: 104, 342: 105, 207: 106, 163: 107, 371: 108, 1027: 109, 248: 110, 191: 111, 652: 112, 836: 113, 117: 114, 455: 115, 893: 116, 232: 117, 633: 118, 841: 119, 148: 120, 330: 121, 1256: 122, 42: 123, 253: 124, 124: 125, 518: 126, 1117: 127, 1010: 128, 66: 129, 694: 130, 144: 131, 936: 132, 910: 133, 372: 134, 247: 135, 889: 136, 1242: 137, 796: 138, 1109: 139, 182: 140, 1182: 141, 386: 142, 806: 143, 1046: 144, 436: 145, 1235: 146, 301: 147, 496: 148, 1026: 149, 1277: 150, 494: 151, 72: 152, 87: 153, 435: 154, 316: 155, 260: 156, 672: 157, 795: 158, 447: 159, 9: 160, 528: 161, 952: 162, 1132: 163, 581: 164, 932: 165, 28: 166, 1031: 167, 382: 168, 514: 169, 607: 170, 1100: 171, 405: 172, 143: 173, 185: 174, 658: 175, 293: 176, 958: 177, 638: 178, 769: 179, 1049: 180, 467: 181, 485: 182, 328: 183, 1280: 184, 1309: 185, 487: 186, 949: 187, 323: 188, 897: 189, 941: 190, 390: 191, 392: 192, 512: 193, 825: 194, 465: 195, 14: 196, 426: 197, 979: 198, 693: 199, 411: 200, 1082: 201, 343: 202, 395: 203, 1219: 204, 618: 205, 63: 206, 758: 207, 1146: 208, 255: 209, 99: 210, 217: 211, 912: 212, 523: 213, 1275: 214, 1205: 215, 401: 216, 126: 217, 242: 218, 340: 219, 640: 220, 240: 221, 744: 222, 913: 223, 86: 224, 597: 225, 381: 226, 7: 227, 175: 228, 578: 229, 803: 230, 805: 231, 623: 232, 168: 233, 981: 234, 420: 235, 366: 236, 1290: 237, 1021: 238, 387: 239, 476: 240, 916: 241, 1096: 242, 162: 243, 384: 244, 100: 245, 530: 246, 866: 247, 971: 248, 374: 249, 824: 250, 816: 251, 1229: 252, 1231: 253, 599: 254, 135: 255, 262: 256, 13: 257, 1034: 258, 1312: 259, 121: 260, 176: 261, 427: 262, 1076: 263, 759: 264, 263: 265, 951: 266, 842: 267, 36: 268, 833: 269, 98: 270, 553: 271, 70: 272, 113: 273, 349: 274, 732: 275, 1149: 276, 1214: 277, 883: 278, 348: 279, 1112: 280, 1173: 281, 54: 282, 954: 283, 907: 284, 52: 285, 869: 286, 956: 287, 1244: 288, 261: 289, 577: 290, 1069: 291, 289: 292, 500: 293, 134: 294, 1001: 295, 1025: 296, 608: 297, 1282: 298, 984: 299, 699: 300, 520: 301, 911: 302, 775: 303, 573: 304, 218: 305, 605: 306, 466: 307, 682: 308, 92: 309, 905: 310, 235: 311, 212: 312, 943: 313, 142: 314, 1305: 315, 209: 316, 871: 317, 1079: 318, 317: 319, 737: 320, 214: 321, 44: 322, 1126: 323, 440: 324, 377: 325, 738: 326, 1133: 327, 285: 328, 885: 329, 773: 330, 483: 331, 1260: 332, 90: 333, 724: 334, 359: 335, 180: 336, 27: 337, 1032: 338, 327: 339, 1294: 340, 845: 341, 619: 342, 1281: 343, 571: 344, 888: 345, 437: 346, 1239: 347, 572: 348, 507: 349, 305: 350, 312: 351, 484: 352, 679: 353, 409: 354, 1303: 355, 955: 356, 20: 357, 82: 358, 510: 359, 785: 360, 589: 361, 621: 362, 283: 363, 1043: 364, 220: 365, 742: 366, 987: 367, 1237: 368, 1147: 369, 354: 370, 996: 371, 670: 372, 1304: 373, 56: 374, 681: 375, 797: 376, 1245: 377, 935: 378, 531: 379, 1006: 380, 413: 381, 1152: 382, 451: 383, 326: 384, 161: 385, 425: 386, 828: 387, 575: 388, 728: 389, 855: 390, 53: 391, 1207: 392, 1186: 393, 1020: 394, 360: 395, 961: 396, 347: 397, 222: 398, 1165: 399, 78: 400, 213: 401, 84: 402, 403: 403, 266: 404, 716: 405, 576: 406, 1077: 407, 1263: 408, 1083: 409, 311: 410, 953: 411, 233: 412, 1269: 413, 740: 414, 294: 415, 449: 416, 592: 417, 1042: 418, 637: 419, 834: 420, 538: 421, 1270: 422, 479: 423, 1258: 424, 667: 425, 689: 426, 80: 427, 707: 428, 1180: 429, 1023: 430, 620: 431, 1268: 432, 809: 433, 302: 434, 313: 435, 231: 436, 1102: 437, 1073: 438, 88: 439, 123: 440, 603: 441, 880: 442, 210: 443, 646: 444, 324: 445, 388: 446, 357: 447, 383: 448, 83: 449, 654: 450, 957: 451, 275: 452, 898: 453, 400: 454, 584: 455, 506: 456, 291: 457, 1194: 458, 385: 459, 908: 460, 939: 461, 250: 462, 1015: 463, 51: 464, 1284: 465, 1017: 466, 17: 467, 1044: 468, 807: 469, 471: 470, 643: 471, 940: 472, 1158: 473, 1103: 474, 394: 475, 983: 476, 789: 477, 236: 478, 525: 479, 526: 480, 335: 481, 251: 482, 832: 483, 661: 484, 685: 485, 1127: 486, 673: 487, 288: 488, 356: 489, 131: 490, 22: 491, 2: 492, 1279: 493, 122: 494, 1140: 495, 1267: 496, 973: 497, 546: 498, 273: 499, 319: 500, 1206: 501, 296: 502, 1310: 503, 731: 504, 1088: 505, 108: 506, 1022: 507, 241: 508, 39: 509, 741: 510, 341: 511, 800: 512, 985: 513, 564: 514, 1018: 515, 566: 516, 1030: 517, 604: 518, 268: 519, 157: 520, 894: 521, 423: 522, 697: 523, 826: 524, 609: 525, 601: 526, 511: 527, 73: 528, 891: 529, 221: 530, 706: 531, 308: 532, 1253: 533, 543: 534, 102: 535, 155: 536, 750: 537, 846: 538, 1287: 539, 675: 540, 1036: 541, 680: 542, 48: 543, 1223: 544, 41: 545, 902: 546, 336: 547, 146: 548, 539: 549, 622: 550, 974: 551, 246: 552, 1228: 553, 829: 554, 788: 555, 556: 556, 536: 557, 1047: 558, 997: 559, 804: 560, 560: 561, 602: 562, 629: 563, 361: 564, 616: 565, 799: 566, 399: 567, 764: 568, 947: 569, 753: 570, 565: 571, 550: 572, 412: 573, 1176: 574, 1179: 575, 1002: 576, 103: 577, 762: 578, 1190: 579, 864: 580, 986: 581, 606: 582, 988: 583, 763: 584, 224: 585, 97: 586, 91: 587, 1011: 588, 881: 589, 995: 590, 15: 591, 325: 592, 1080: 593, 1262: 594, 827: 595, 421: 596, 177: 597, 114: 598, 1307: 599, 299: 600, 279: 601, 432: 602, 329: 603, 909: 604, 271: 605, 594: 606, 856: 607, 748: 608, 777: 609, 1089: 610, 1264: 611, 962: 612, 713: 613, 904: 614, 541: 615, 821: 616, 588: 617, 1145: 618, 792: 619, 854: 620, 723: 621, 407: 622, 642: 623, 838: 624, 95: 625, 429: 626, 158: 627, 58: 628, 492: 629, 1240: 630, 446: 631, 801: 632, 31: 633, 68: 634, 1175: 635, 628: 636, 811: 637, 439: 638, 859: 639, 132: 640, 1174: 641, 559: 642, 1135: 643, 931: 644, 1195: 645, 38: 646, 133: 647, 190: 648, 1148: 649, 280: 650, 533: 651, 418: 652, 918: 653, 55: 654, 1266: 655, 107: 656, 1171: 657, 659: 658, 502: 659, 151: 660, 960: 661, 782: 662, 787: 663, 1220: 664, 355: 665, 1114: 666, 127: 667, 830: 668, 676: 669, 339: 670, 656: 671, 379: 672, 259: 673, 1086: 674, 1108: 675, 739: 676, 119: 677, 402: 678, 300: 679, 914: 680, 1161: 681, 24: 682, 3: 683, 554: 684, 363: 685, 475: 686, 365: 687, 109: 688, 71: 689, 632: 690, 322: 691, 1106: 692, 917: 693, 375: 694, 1170: 695, 1092: 696, 368: 697, 499: 698, 1101: 699, 320: 700, 784: 701, 445: 702, 138: 703, 695: 704, 847: 705, 406: 706, 1134: 707, 200: 708, 751: 709, 352: 710, 814: 711, 1288: 712, 493: 713, 972: 714, 234: 715, 542: 716, 729: 717, 923: 718, 1035: 719, 229: 720, 141: 721, 310: 722, 1265: 723, 1045: 724, 704: 725, 1075: 726, 645: 727, 524: 728, 990: 729, 270: 730, 1072: 731, 397: 732, 57: 733, 332: 734, 1285: 735, 192: 736, 1162: 737, 96: 738, 1192: 739, 890: 740, 579: 741, 798: 742, 19: 743, 1311: 744, 29: 745, 309: 746, 790: 747, 398: 748, 745: 749, 712: 750, 1039: 751, 1181: 752, 69: 753, 793: 754, 966: 755, 557: 756, 491: 757, 26: 758, 513: 759, 1070: 760, 1202: 761, 711: 762, 992: 763, 295: 764, 937: 765, 783: 766, 284: 767, 202: 768, 1251: 769, 1183: 770, 120: 771, 519: 772, 282: 773, 1068: 774, 111: 775, 876: 776, 1060: 777, 110: 778, 595: 779, 172: 780, 1271: 781, 820: 782, 46: 783, 1249: 784, 1003: 785, 415: 786, 561: 787, 452: 788, 999: 789, 188: 790, 16: 791, 663: 792, 67: 793, 101: 794, 720: 795, 924: 796, 651: 797, 1224: 798, 517: 799, 225: 800, 899: 801, 1142: 802, 489: 803, 978: 804, 848: 805, 137: 806, 469: 807, 10: 808, 149: 809, 968: 810, 819: 811, 1041: 812, 1094: 813, 59: 814, 964: 815, 1193: 816, 1196: 817, 875: 818, 920: 819, 558: 820, 749: 821, 544: 822, 901: 823, 404: 824, 1159: 825, 698: 826, 874: 827, 664: 828, 583: 829, 376: 830, 1185: 831, 34: 832, 547: 833, 696: 834, 1254: 835, 45: 836, 150: 837, 106: 838, 60: 839, 198: 840, 362: 841, 948: 842, 1189: 843, 1128: 844, 1211: 845, 627: 846, 35: 847, 286: 848, 249: 849, 1066: 850, 226: 851, 868: 852, 181: 853, 1037: 854, 863: 855, 1208: 856, 817: 857, 1243: 858, 1154: 859, 872: 860, 1259: 861, 1156: 862, 1058: 863, 1098: 864, 473: 865, 1168: 866, 1038: 867, 1125: 868, 760: 869, 1054: 870, 1104: 871, 1225: 872, 1016: 873, 380: 874, 458: 875, 611: 876, 1212: 877, 1160: 878, 1141: 879, 527: 880, 1009: 881, 717: 882, 746: 883, 1289: 884, 277: 885, 194: 886, 922: 887, 537: 888, 1091: 889, 870: 890, 549: 891, 256: 892, 419: 893, 441: 894, 1234: 895, 75: 896, 159: 897, 925: 898, 1204: 899, 844: 900, 93: 901, 1093: 902, 532: 903, 334: 904, 808: 905, 977: 906, 112: 907, 1272: 908, 115: 909, 835: 910, 727: 911, 195: 912, 1316: 913, 752: 914, 684: 915, 125: 916, 396: 917, 582: 918, 171: 919, 331: 920, 337: 921, 574: 922, 1302: 923, 938: 924, 416: 925, 655: 926, 617: 927, 843: 928, 1274: 929, 1000: 930, 1052: 931, 1201: 932, 414: 933, 598: 934, 1163: 935, 1308: 936, 179: 937, 708: 938, 306: 939, 591: 940, 438: 941, 105: 942, 647: 943, 1138: 944, 813: 945, 690: 946, 945: 947, 314: 948, 1314: 949, 563: 950, 89: 951, 156: 952, 424: 953, 586: 954, 40: 955, 580: 956, 128: 957, 174: 958, 470: 959, 757: 960, 178: 961, 1293: 962, 1107: 963, 508: 964, 1019: 965, 967: 966, 1232: 967, 1097: 968, 410: 969, 297: 970, 933: 971, 614: 972, 378: 973, 490: 974, 350: 975, 815: 976, 1188: 977, 43: 978, 719: 979, 333: 980, 1136: 981, 1197: 982, 1144: 983, 718: 984, 1122: 985, 857: 986, 1129: 987, 11: 988, 422: 989, 818: 990, 1124: 991, 612: 992, 657: 993, 18: 994, 1061: 995, 254: 996, 104: 997, 626: 998, 858: 999, 1150: 1000, 504: 1001, 23: 1002, 276: 1003, 534: 1004, 946: 1005, 1238: 1006, 1013: 1007, 1166: 1008, 497: 1009, 145: 1010, 196: 1011, 1248: 1012, 1217: 1013, 1252: 1014, 290: 1015, 269: 1016, 94: 1017, 1024: 1018, 482: 1019, 991: 1020, 173: 1021, 118: 1022, 64: 1023, 850: 1024, 1306: 1025, 892: 1026, 969: 1027, 1301: 1028, 1005: 1029, 942: 1030, 1120: 1031, 25: 1032, 30: 1033, 812: 1034, 780: 1035, 823: 1036, 1137: 1037, 463: 1038, 613: 1039, 674: 1040, 980: 1041, 1081: 1042, 62: 1043, 130: 1044, 624: 1045, 998: 1046, 183: 1047, 160: 1048, 346: 1049, 1078: 1050, 569: 1051, 1297: 1052, 1250: 1053, 860: 1054, 862: 1055, 205: 1056, 1213: 1057, 147: 1058, 274: 1059, 683: 1060, 307: 1061, 450: 1062, 515: 1063, 1119: 1064, 1278: 1065, 585: 1066, 994: 1067, 1241: 1068, 516: 1069, 1167: 1070, 877: 1071, 631: 1072, 761: 1073, 754: 1074, 1029: 1075, 701: 1076, 634: 1077, 715: 1078, 1218: 1079, 443: 1080, 822: 1081, 641: 1082, 393: 1083, 625: 1084, 867: 1085, 228: 1086, 710: 1087, 970: 1088, 1099: 1089, 522: 1090, 851: 1091, 1111: 1092, 1055: 1093, 677: 1094, 730: 1095, 1062: 1096, 709: 1097, 351: 1098, 873: 1099, 555: 1100, 1130: 1101, 768: 1102, 292: 1103, 140: 1104, 481: 1105, 1113: 1106, 726: 1107, 865: 1108, 468: 1109, 665: 1110, 686: 1111, 1087: 1112, 1090: 1113, 1315: 1114, 1164: 1115, 8: 1116, 705: 1117, 976: 1118, 666: 1119, 540: 1120, 503: 1121, 1198: 1122, 714: 1123, 1105: 1124, 287: 1125, 477: 1126, 1095: 1127, 779: 1128, 1050: 1129, 486: 1130, 743: 1131, 668: 1132, 197: 1133, 193: 1134, 1222: 1135, 765: 1136, 535: 1137, 567: 1138, 265: 1139, 454: 1140, 129: 1141, 928: 1142, 1233: 1143, 1210: 1144, 244: 1145, 703: 1146, 781: 1147, 921: 1148, 6: 1149, 170: 1150, 187: 1151, 722: 1152, 1276: 1153, 1295: 1154, 298: 1155, 462: 1156, 993: 1157, 989: 1158, 879: 1159, 733: 1160, 786: 1161, 734: 1162, 1209: 1163, 886: 1164, 1191: 1165, 278: 1166, 227: 1167, 417: 1168, 1292: 1169, 1012: 1170, 21: 1171, 480: 1172, 1110: 1173, 1172: 1174, 1300: 1175, 1056: 1176, 1296: 1177, 772: 1178, 669: 1179, 852: 1180, 766: 1181, 975: 1182, 919: 1183, 152: 1184, 1071: 1185, 4: 1186, 498: 1187, 1121: 1188, 1048: 1189, 488: 1190, 639: 1191, 1299: 1192, 77: 1193, 206: 1194, 636: 1195, 771: 1196, 338: 1197, 568: 1198, 408: 1199, 1131: 1200, 1067: 1201, 136: 1202, 239: 1203, 839: 1204, 1313: 1205, 389: 1206, 965: 1207, 1153: 1208, 1065: 1209, 1007: 1210, 635: 1211, 1187: 1212, 509: 1213, 186: 1214, 671: 1215, 169: 1216, 545: 1217, 521: 1218, 1074: 1219, 1040: 1220, 1169: 1221, 903: 1222, 428: 1223, 767: 1224, 237: 1225, 1139: 1226, 272: 1227, 431: 1228, 1063: 1229, 700: 1230, 453: 1231, 1014: 1232, 610: 1233, 691: 1234, 660: 1235, 203: 1236, 1215: 1237, 1084: 1238, 570: 1239, 1298: 1240, 1203: 1241, 721: 1242, 702: 1243, 755: 1244, 934: 1245, 456: 1246, 630: 1247, 548: 1248, 861: 1249, 204: 1250, 460: 1251, 944: 1252, 1151: 1253, 264: 1254, 358: 1255, 474: 1256, 353: 1257, 318: 1258, 770: 1259, 982: 1260, 1053: 1261, 1199: 1262, 906: 1263, 1123: 1264, 208: 1265, 1051: 1266, 1157: 1267, 164: 1268, 900: 1269, 927: 1270, 505: 1271, 211: 1272, 896: 1273, 551: 1274, 644: 1275, 774: 1276, 915: 1277, 1064: 1278, 1059: 1279, 166: 1280, 593: 1281, 1247: 1282, 687: 1283, 167: 1284, 281: 1285, 165: 1286, 1261: 1287, 849: 1288, 12: 1289, 1177: 1290, 590: 1291, 1291: 1292, 448: 1293, 1227: 1294, 562: 1295, 33: 1296, 1057: 1297, 478: 1298, 882: 1299, 49: 1300, 778: 1301, 776: 1302, 1004: 1303, 1184: 1304, 552: 1305, 1178: 1306, 794: 1307, 5: 1308, 1200: 1309, 1246: 1310}\n"
     ]
    }
   ],
   "source": [
    "## generate relation and correspoding DDIs\n",
    "twosides_freq = pd.read_csv(\"twosides_frequency.csv\", header=None)\n",
    "\n",
    "rel2id = {}\n",
    "count = 0\n",
    "\n",
    "for idx, row in twosides_freq.iterrows():\n",
    "    # if idx >= 300 and idx < 1200:\n",
    "    if idx < 1311:\n",
    "        rel2id[row[0]] = count\n",
    "        count += 1\n",
    "print(len(rel2id))\n",
    "print(rel2id)"
   ]
  },
  {
   "cell_type": "code",
   "execution_count": null,
   "id": "b19147ae",
   "metadata": {},
   "outputs": [],
   "source": [
    "# dump the map between rel and id\n",
    "# json.dump({str(k): str(v) for k, v in rel2id.items()}, open(\"new_data/rel2id.json\", 'w'))\n",
    "# json.dump({str(v): str(k) for k, v in rel2id.items()}, open(\"new_data/id2rel.json\", 'w'))\n"
   ]
  },
  {
   "cell_type": "code",
   "execution_count": 10,
   "id": "2f7204da",
   "metadata": {},
   "outputs": [
    {
     "name": "stderr",
     "output_type": "stream",
     "text": [
      "100%|██████████| 4649441/4649441 [00:04<00:00, 1131831.81it/s]\n"
     ]
    }
   ],
   "source": [
    "filtered_triplets = []\n",
    "for triplet in tqdm(all_triplets):\n",
    "    if triplet[0] in cids and triplet[1] in cids and triplet[2] in rel2id:\n",
    "        id1 = cid2id[triplet[0]]\n",
    "        id2 = cid2id[triplet[1]]\n",
    "\n",
    "        if id1 < id2:\n",
    "            filtered_triplets.append((id1, id2, rel2id[triplet[2]]))\n",
    "        else:\n",
    "            filtered_triplets.append((id2, id1, rel2id[triplet[2]]))"
   ]
  },
  {
   "cell_type": "code",
   "execution_count": 11,
   "id": "5f89e329",
   "metadata": {},
   "outputs": [
    {
     "name": "stdout",
     "output_type": "stream",
     "text": [
      "4649441 -> 4649430\n"
     ]
    }
   ],
   "source": [
    "print(f\"{len(all_triplets)} -> {len(filtered_triplets)}\")"
   ]
  },
  {
   "cell_type": "code",
   "execution_count": null,
   "id": "50a74c38",
   "metadata": {},
   "outputs": [],
   "source": [
    "# all_df = pd.DataFrame(filtered_triplets, columns =['Drug1', 'Drug2', 'DDI'])\n",
    "# all_df['DDI'].value_counts().reset_index().to_csv('twosides_frequency_filtered.csv', index=False, header=None)\n",
    "# print(all_df)"
   ]
  },
  {
   "cell_type": "code",
   "execution_count": 12,
   "id": "26bebd85",
   "metadata": {},
   "outputs": [
    {
     "name": "stdout",
     "output_type": "stream",
     "text": [
      "         Drug1  Drug2   DDI\n",
      "0            0      1  1224\n",
      "1            0      1  1032\n",
      "2            0      1    17\n",
      "3            0      1    89\n",
      "4            0      1    57\n",
      "...        ...    ...   ...\n",
      "4649425     79    239   212\n",
      "4649426     16    399   343\n",
      "4649427    118    304   292\n",
      "4649428     50    144   492\n",
      "4649429     49    356    33\n",
      "\n",
      "[4649430 rows x 3 columns]\n"
     ]
    }
   ],
   "source": [
    "filtered_df = pd.DataFrame(filtered_triplets, columns = ['Drug1', 'Drug2', 'DDI'])\n",
    "\n",
    "print(filtered_df)"
   ]
  },
  {
   "cell_type": "code",
   "execution_count": 15,
   "id": "50be201d",
   "metadata": {},
   "outputs": [
    {
     "name": "stderr",
     "output_type": "stream",
     "text": [
      "2266it [00:00, 22655.16it/s]"
     ]
    },
    {
     "name": "stdout",
     "output_type": "stream",
     "text": [
      "1310\n"
     ]
    },
    {
     "name": "stderr",
     "output_type": "stream",
     "text": [
      "4649430it [02:52, 26937.81it/s]\n"
     ]
    }
   ],
   "source": [
    "## convert format to one-hot\n",
    "import numpy as np\n",
    "\n",
    "max_ddi = filtered_df['DDI'].max()\n",
    "print(max_ddi)\n",
    "datas = {}\n",
    "\n",
    "for idx, row in tqdm(filtered_df.iterrows()):\n",
    "    pair_idx = (row['Drug1'], row['Drug2'])\n",
    "    if pair_idx not in datas:\n",
    "        datas[pair_idx] = np.zeros(1311, dtype=int)\n",
    "\n",
    "    datas[pair_idx][row['DDI']] = 1"
   ]
  },
  {
   "cell_type": "code",
   "execution_count": 16,
   "id": "690870cd",
   "metadata": {},
   "outputs": [
    {
     "name": "stderr",
     "output_type": "stream",
     "text": [
      "100%|██████████| 63473/63473 [01:10<00:00, 899.12it/s] \n"
     ]
    }
   ],
   "source": [
    "## Generate negative samples by corrupt head and tail entities\n",
    "import random\n",
    "\n",
    "with open('new_data/data.txt', 'w') as f:\n",
    "    for pair, labels in tqdm(datas.items()):\n",
    "        pos_str = f\"{pair[0]}\\t{pair[1]}\\t{','.join(map(str, labels))}\\t1\\n\"\n",
    "        f.write(pos_str)\n",
    "\n",
    "        rand1 = random.randint(0, len(cid2id)-1)\n",
    "        rand2 = random.randint(0, len(cid2id)-1)\n",
    "        neg_str = f\"{rand1}\\t{rand2}\\t{','.join(map(str, labels))}\\t0\\n\"\n",
    "        f.write(neg_str)"
   ]
  },
  {
   "cell_type": "code",
   "execution_count": 17,
   "id": "dcde390d",
   "metadata": {},
   "outputs": [
    {
     "name": "stdout",
     "output_type": "stream",
     "text": [
      "          0    1                                                  2  3\n",
      "0         0    1  1,0,1,0,0,0,0,0,0,0,0,0,0,0,0,0,0,1,0,0,0,0,0,...  1\n",
      "1       573  199  1,0,1,0,0,0,0,0,0,0,0,0,0,0,0,0,0,1,0,0,0,0,0,...  0\n",
      "2         2    3  0,0,0,0,0,0,0,0,0,0,0,0,0,0,1,0,0,0,0,0,0,0,0,...  1\n",
      "3       152  102  0,0,0,0,0,0,0,0,0,0,0,0,0,0,1,0,0,0,0,0,0,0,0,...  0\n",
      "4         4    5  0,1,0,0,1,0,0,0,0,0,0,0,0,0,0,0,0,0,1,0,1,0,0,...  1\n",
      "...     ...  ...                                                ... ..\n",
      "126941  389  421  0,0,0,0,0,0,0,0,0,0,0,0,0,0,0,0,0,0,0,0,0,0,0,...  0\n",
      "126942  212  309  0,0,0,0,0,0,0,0,0,0,0,0,0,0,0,0,0,0,0,0,0,0,0,...  1\n",
      "126943  583   23  0,0,0,0,0,0,0,0,0,0,0,0,0,0,0,0,0,0,0,0,0,0,0,...  0\n",
      "126944  155  280  0,0,0,0,0,0,0,0,0,0,0,0,0,0,0,0,0,0,0,0,0,0,0,...  1\n",
      "126945  111  478  0,0,0,0,0,0,0,0,0,0,0,0,0,0,0,0,0,0,0,0,0,0,0,...  0\n",
      "\n",
      "[126946 rows x 4 columns]\n"
     ]
    }
   ],
   "source": [
    "output_data = pd.read_csv('new_data/data.txt', sep='\\t', header=None)\n",
    "print(output_data)"
   ]
  },
  {
   "cell_type": "code",
   "execution_count": 18,
   "id": "aa8744dc",
   "metadata": {},
   "outputs": [
    {
     "name": "stdout",
     "output_type": "stream",
     "text": [
      "Train data length: 88861\n",
      "Validation data length: 12695\n",
      "Test data length: 25390\n"
     ]
    }
   ],
   "source": [
    "## split data into train/valid/test\n",
    "from sklearn.model_selection import train_test_split\n",
    "\n",
    "# Split the data into train and remaining data\n",
    "remaining_data, test_data = train_test_split(output_data, test_size=0.2, random_state=0)\n",
    "\n",
    "# Split the remaining data into train and validation\n",
    "train_data, valid_data = train_test_split(remaining_data, test_size=0.125, random_state=0)\n",
    "\n",
    "# Print the lengths of the resulting datasets\n",
    "print(\"Train data length:\", len(train_data))\n",
    "print(\"Validation data length:\", len(valid_data))\n",
    "print(\"Test data length:\", len(test_data))"
   ]
  },
  {
   "cell_type": "code",
   "execution_count": null,
   "id": "51e029c4",
   "metadata": {},
   "outputs": [],
   "source": [
    "train_data.to_csv('new_data/train.txt', sep='\\t', header=None, index=False)\n",
    "valid_data.to_csv('new_data/dev.txt', sep='\\t', header=None, index=False)\n",
    "test_data.to_csv('new_data/test.txt', sep='\\t', header=None, index=False)"
   ]
  },
  {
   "cell_type": "code",
   "execution_count": null,
   "id": "88b5fe66",
   "metadata": {},
   "outputs": [],
   "source": [
    "## generate fingerprints\n",
    "# from rdkit import Chem\n",
    "# from rdkit.Chem import MACCSkeys, AllChem\n",
    "\n",
    "# m = Chem.MolFromSmiles(mol_smiles[idx])\n",
    "# fp = AllChem.GetHashedMorganFingerprint(m, 2, nBits=1024).ToList()\n",
    "# fp_arr = np.array(fp)\n"
   ]
  },
  {
   "cell_type": "markdown",
   "id": "ce3c7f91",
   "metadata": {},
   "source": [
    "## Drugbank"
   ]
  },
  {
   "cell_type": "code",
   "execution_count": null,
   "id": "59b6b590",
   "metadata": {},
   "outputs": [],
   "source": [
    "drugbank_data = DDI(name = 'DrugBank')\n",
    "drugbank_split = drugbank_data.get_split()"
   ]
  },
  {
   "cell_type": "code",
   "execution_count": null,
   "id": "0337a79d",
   "metadata": {},
   "outputs": [],
   "source": [
    "all_drugbank = pd.concat([drugbank_split['train'], drugbank_split['valid'], drugbank_split['test']], axis=0)\n",
    "print(all_drugbank)"
   ]
  },
  {
   "cell_type": "code",
   "execution_count": null,
   "id": "1ff61684",
   "metadata": {},
   "outputs": [],
   "source": [
    "all_drugbank['Y'].value_counts().reset_index().to_csv(\"drugbank_frequency.csv\", index=False, header=False)"
   ]
  },
  {
   "cell_type": "code",
   "execution_count": null,
   "id": "f3f8a374",
   "metadata": {},
   "outputs": [],
   "source": [
    "import json\n",
    "id2drug = json.load(open('data/DDI_dataset/BioSNAP/id2drug.json','r',encoding=\"utf-8\"))\n",
    "cid2id = dict()\n",
    "cid2db = dict()\n",
    "for idx, drug in id2drug.items():\n",
    "    cid2id[drug['cid']] = int(idx)\n",
    "    db = drug['db']\n",
    "    if db is not None:\n",
    "        cid2db[drug['cid']] = db\n",
    "cid_set = set(cid2id.keys())\n",
    "print(len(cid_set), len(twoside_drugs), len(twoside_drugs.intersection(cid_set)))"
   ]
  },
  {
   "cell_type": "code",
   "execution_count": null,
   "id": "cce514c5",
   "metadata": {},
   "outputs": [],
   "source": [
    "# relation mappings\n",
    "from tdc.utils import get_label_map\n",
    "relid2se = get_label_map(name = 'TWOSIDES', task = 'DDI', name_column = 'Side Effect Name')\n",
    "relname2se = pd.read_csv('data/DDI_dataset/BioSNAP/side_effect_names.tsv', header=None, sep='\\t')\n",
    "se2relname = dict()\n",
    "for i in range(len(relname2se)):\n",
    "    relname, se = relname2se.iloc[i]\n",
    "    se2relname[se] = relname\n",
    "relid2name = dict()\n",
    "for relid in relid2se:\n",
    "    relid2name[relid] = se2relname[relid2se[relid]]"
   ]
  },
  {
   "cell_type": "code",
   "execution_count": null,
   "id": "46d5702a",
   "metadata": {},
   "outputs": [],
   "source": [
    "relid2name"
   ]
  },
  {
   "cell_type": "code",
   "execution_count": null,
   "id": "be842f09",
   "metadata": {},
   "outputs": [],
   "source": [
    "rel_counts = defaultdict(int)\n",
    "print(len(cid2id))\n",
    "for triplet in all_triplets:\n",
    "    h, t, r = triplet\n",
    "    rel_counts[r] += 1\n",
    "    if h in cid2id:\n",
    "        h_id = cid2id[h]\n",
    "    else:\n",
    "        continue\n",
    "        h_id = len(cid2id)\n",
    "        cid2id[h] = h_id\n",
    "    if t in cid2id:\n",
    "        t_id = cid2id[t]\n",
    "    else:\n",
    "        continue\n",
    "        t_id = len(cid2id)\n",
    "        cid2id[t] = t_id"
   ]
  },
  {
   "cell_type": "code",
   "execution_count": null,
   "id": "69beed56",
   "metadata": {},
   "outputs": [],
   "source": [
    "rel_remaining = set()\n",
    "N = 2790\n",
    "for rel in relid2name:\n",
    "    if rel_counts[rel] >= N:\n",
    "        rel_remaining.add(rel)\n",
    "print(len(rel_remaining), len(rel_counts))\n",
    "rel2id = dict()\n",
    "count = 0\n",
    "for rel in rel_remaining:\n",
    "    rel2id[rel] = count\n",
    "    count += 1"
   ]
  },
  {
   "cell_type": "code",
   "execution_count": null,
   "id": "6a7979f5",
   "metadata": {},
   "outputs": [],
   "source": [
    "idx_triplets = defaultdict(set)\n",
    "count = 0\n",
    "for triplet in all_triplets:\n",
    "    h, t, r = triplet\n",
    "    if h in cid2id and t in cid2id and r in rel_remaining:\n",
    "        h_id = cid2id[h]\n",
    "        t_id = cid2id[t]\n",
    "        r_id = rel2id[r]\n",
    "        if h_id > t_id:\n",
    "            h_id, t_id = t_id, h_id\n",
    "        idx_triplets[(h_id, t_id)].add(r_id)\n",
    "        count += 1\n",
    "print(len(idx_triplets), count, count/(len(idx_triplets)*len(rel_remaining)))"
   ]
  },
  {
   "cell_type": "code",
   "execution_count": null,
   "id": "148c1f4b",
   "metadata": {},
   "outputs": [],
   "source": [
    "n_rel = len(rel2id)\n",
    "with open('train.txt', 'w+') as f:\n",
    "    for pair, rel in idx_triplets.items():\n",
    "        h, t = pair\n",
    "        out_str = \"{}\\t{}\\t\".format(h, t)\n",
    "        rel_list = [\"0\"] * n_rel\n",
    "        for r in rel:\n",
    "            rel_list[r] = \"1\"\n",
    "        out_str += \",\".join(rel_list)\n",
    "        out_str += \"\\t1\\n\"\n",
    "        f.write(out_str)"
   ]
  },
  {
   "cell_type": "code",
   "execution_count": null,
   "id": "4352702c",
   "metadata": {},
   "outputs": [],
   "source": []
  },
  {
   "cell_type": "markdown",
   "id": "8cbf057b",
   "metadata": {},
   "source": [
    "## Plot frequency"
   ]
  },
  {
   "cell_type": "code",
   "execution_count": null,
   "id": "7635af15",
   "metadata": {},
   "outputs": [],
   "source": [
    "import pandas as pd\n",
    "dataset = 'twosides'\n",
    "\n",
    "plot_data = pd.read_csv(f\"{dataset}_frequency.csv\", header=None)\n",
    "\n",
    "print(plot_data)"
   ]
  },
  {
   "cell_type": "code",
   "execution_count": null,
   "id": "0a18744f",
   "metadata": {},
   "outputs": [],
   "source": [
    "y = plot_data[1][600:800]\n",
    "\n",
    "print(y)\n",
    "x = list(range(len(y)))"
   ]
  },
  {
   "cell_type": "code",
   "execution_count": null,
   "id": "26f5a716",
   "metadata": {},
   "outputs": [],
   "source": [
    "import matplotlib.pyplot as plt\n",
    "\n",
    "plt.plot(x, y)\n",
    "\n",
    "plt.title(f\"{dataset} Frequency\")\n",
    "plt.xlabel(\"Relation\")\n",
    "plt.ylabel(\"Frequency\")\n",
    "\n",
    "plt.ylim(0, 2000)\n",
    "\n",
    "plt.show()"
   ]
  },
  {
   "cell_type": "markdown",
   "id": "45151666",
   "metadata": {},
   "source": []
  }
 ],
 "metadata": {
  "kernelspec": {
   "display_name": "Python 3.8.16 ('th1110')",
   "language": "python",
   "name": "python3"
  },
  "language_info": {
   "codemirror_mode": {
    "name": "ipython",
    "version": 3
   },
   "file_extension": ".py",
   "mimetype": "text/x-python",
   "name": "python",
   "nbconvert_exporter": "python",
   "pygments_lexer": "ipython3",
   "version": "3.7.16"
  },
  "vscode": {
   "interpreter": {
    "hash": "c5f194073aaff85b697eed6685e89bdb344177f148991fb6fdbaca70a347ec53"
   }
  }
 },
 "nbformat": 4,
 "nbformat_minor": 5
}
